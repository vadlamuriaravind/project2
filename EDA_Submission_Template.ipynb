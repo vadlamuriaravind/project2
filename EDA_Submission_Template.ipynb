{
  "nbformat": 4,
  "nbformat_minor": 0,
  "metadata": {
    "colab": {
      "private_outputs": true,
      "provenance": [],
      "collapsed_sections": [
        "w6K7xa23Elo4",
        "gIfDvo9L0UH2"
      ]
    },
    "kernelspec": {
      "name": "python3",
      "display_name": "Python 3"
    },
    "language_info": {
      "name": "python"
    }
  },
  "cells": [
    {
      "cell_type": "markdown",
      "source": [
        "# **Project Name**    -**Exploratory Data Analysis of Amazon Prime Video Content**\n",
        "\n"
      ],
      "metadata": {
        "id": "vncDsAP0Gaoa"
      }
    },
    {
      "cell_type": "markdown",
      "source": [
        "##### **Project Type**    - EDA/Regression/Classification/Unsupervised\n"
      ],
      "metadata": {
        "id": "beRrZCGUAJYm"
      }
    },
    {
      "cell_type": "markdown",
      "source": [
        "# **Project Summary -**"
      ],
      "metadata": {
        "id": "FJNUwmbgGyua"
      }
    },
    {
      "cell_type": "markdown",
      "source": [
        "In today’s dynamic digital entertainment era, streaming platforms have become an integral part of our daily lives, with millions of users consuming online content across genres, languages, and formats. Among the major players in the global streaming market, Amazon Prime Video stands out as one of the leading platforms, offering a wide variety of movies and television shows catering to diverse audiences. This project aims to conduct a detailed Exploratory Data Analysis (EDA) of Amazon Prime Video’s catalog to uncover valuable insights and trends related to its content diversity, viewer preferences, and production strategies.\n",
        "\n",
        "The dataset used in this analysis comprises two primary files — titles.csv and credits.csv — containing detailed information about more than 9,000 titles and 124,000 credits of actors and directors. The titles.csv file provides metadata about each movie or show, including features like title name, show type (Movie or TV Show), release year, age certification, runtime, genres, IMDb and TMDb ratings, and production countries. The credits.csv file lists the individuals associated with each title, including their role (Actor or Director), name, and character details. Together, these datasets provide a comprehensive view of Amazon Prime’s content library, enabling a multi-dimensional exploration of its catalog.\n",
        "\n",
        "The objective of this project is to identify patterns and trends within Amazon Prime Video’s catalog that can inform business and content strategies. Key questions explored include:\n",
        "\n",
        "Are movies more dominant than TV shows on Amazon Prime Video?\n",
        "\n",
        "What are the most common genres available on the platform?\n",
        "\n",
        "How has the number of titles evolved over the years?\n",
        "\n",
        "Which actors and directors have contributed most frequently to Prime’s content?\n",
        "\n",
        "What is the relationship between IMDb and TMDb ratings, and what does it reveal about viewer perceptions?\n",
        "\n",
        "The analysis process begins with data cleaning and preprocessing. Missing and inconsistent values are identified and handled appropriately, ensuring accurate and reliable results. Categorical columns such as genres and production countries are parsed into lists for easier analysis. Numeric columns like release year, runtime, and ratings are converted into appropriate formats for visualization and statistical analysis.\n",
        "\n",
        "A series of data visualizations are used to uncover insights. Bar plots reveal the distribution between Movies and TV Shows, highlighting that movies make up a significant portion of Prime’s library. Line charts depicting titles by release year demonstrate a sharp growth in content availability, particularly from 2010 onwards, indicating Amazon’s increasing investment in content production. Genre analysis shows that Drama, Comedy, and Action dominate the platform, reflecting mainstream audience preferences. Correlation analysis between IMDb and TMDb scores indicates a positive relationship, suggesting consistency between the two rating systems. Actor and director participation analysis highlights the most active contributors, shedding light on frequently featured talent in Amazon’s productions.\n",
        "\n",
        "The business insights drawn from this EDA are valuable for multiple stakeholders:\n",
        "\n",
        "Content strategists can use genre trends to identify high-performing categories and guide future acquisition or production decisions.\n",
        "\n",
        "Marketing teams can leverage popularity insights to tailor promotional campaigns.\n",
        "\n",
        "Investors and executives can monitor trends in content production and ratings to inform investment decisions."
      ],
      "metadata": {
        "id": "F6v_1wHtG2nS"
      }
    },
    {
      "cell_type": "markdown",
      "source": [
        "# **GitHub Link -**"
      ],
      "metadata": {
        "id": "w6K7xa23Elo4"
      }
    },
    {
      "cell_type": "markdown",
      "source": [
        "Provide your GitHub Link here."
      ],
      "metadata": {
        "id": "h1o69JH3Eqqn"
      }
    },
    {
      "cell_type": "markdown",
      "source": [
        "# **Problem Statement**\n"
      ],
      "metadata": {
        "id": "yQaldy8SH6Dl"
      }
    },
    {
      "cell_type": "markdown",
      "source": [
        "With the rapid expansion of the global streaming industry, platforms like Amazon Prime Video are continuously adding new titles to cater to diverse audiences and compete with rivals such as Netflix, Disney+, and Hulu. However, the massive volume of available content makes it challenging to understand key trends, user preferences, and content distribution patterns without proper data analysis.\n",
        "\n",
        "The main problem addressed in this project is the lack of structured insights into Amazon Prime Video’s vast content library. Specifically, the goal is to explore and analyze the available data to answer critical business and analytical questions such as:\n",
        "\n",
        "What types of content (Movies vs. TV Shows) dominate the platform?\n",
        "\n",
        "Which genres and production countries contribute the most to Amazon Prime Video’s catalog?\n",
        "\n",
        "How has the number of titles evolved over the years, and what patterns can be observed in content release trends?\n",
        "\n",
        "What are the highest-rated or most popular shows based on IMDb and TMDb ratings?\n",
        "\n",
        "Who are the most frequently featured actors and directors on the platform?\n",
        "\n",
        "What correlations exist between different rating metrics (IMDb, TMDb, popularity)?\n",
        "\n",
        "By conducting a detailed Exploratory Data Analysis (EDA) on Amazon Prime Video’s dataset — containing information about titles, genres, release years, runtime, ratings, and credits — this project seeks to uncover actionable insights that can inform content strategy, marketing decisions, and audience engagement approaches.\n",
        "\n",
        "Ultimately, the problem revolves around transforming large volumes of unstructured entertainment data into meaningful insights that help stakeholders understand Amazon Prime Video’s content landscape, identify growth opportunities, and make data-driven decisions in the competitive streaming market."
      ],
      "metadata": {
        "id": "f7WpPYA-kWfO"
      }
    },
    {
      "cell_type": "markdown",
      "source": [
        "#### **Business Objective**"
      ],
      "metadata": {
        "id": "PH-0ReGfmX4f"
      }
    },
    {
      "cell_type": "markdown",
      "source": [
        "The primary objective of this project is to analyze and interpret the Amazon Prime Video dataset through Exploratory Data Analysis (EDA) to derive meaningful business insights that can support strategic decision-making in the streaming industry.\n",
        "\n",
        "In an increasingly competitive digital entertainment market, understanding the composition and performance of a platform’s content library is crucial for business growth. Amazon Prime Video must continuously evaluate its catalog to ensure it offers the right mix of genres, regional diversity, and high-rated titles that attract and retain subscribers.\n",
        "\n",
        "This project aims to address that need by using data-driven techniques to achieve the following specific objectives:\n",
        "\n",
        "Content Composition Analysis\n",
        "\n",
        "Examine the overall distribution of Movies and TV Shows on Amazon Prime Video.\n",
        "\n",
        "Identify dominant genres and analyze how genre diversity contributes to audience engagement.\n",
        "\n",
        "Temporal Trends and Growth\n",
        "\n",
        "Study the evolution of content over the years to determine how Amazon Prime’s library has grown or shifted in focus.\n",
        "\n",
        "Detect trends in content production and release patterns that align with changes in audience demand or industry developments.\n",
        "\n",
        "Performance and Ratings Insights\n",
        "\n",
        "Analyze IMDb and TMDb scores to assess content quality and viewer reception.\n",
        "\n",
        "Explore correlations between popularity metrics, ratings, and runtime to identify characteristics of high-performing titles.\n",
        "\n",
        "Talent and Production Analysis\n",
        "\n",
        "Identify the most frequently appearing actors and directors associated with Amazon Prime Video titles.\n",
        "\n",
        "Examine how key contributors influence content popularity and audience interest.\n",
        "\n",
        "Regional and Genre Diversity\n",
        "\n",
        "Understand the representation of different production countries in Amazon Prime Video’s catalog.\n",
        "\n",
        "Assess how international content contributes to platform diversity and global reach.\n",
        "\n",
        "Strategic Recommendations\n",
        "\n",
        "Provide data-backed insights to help content strategists decide which genres or formats to invest in.\n",
        "\n",
        "Support marketing teams in identifying high-rated and popular content for targeted promotions.\n",
        "\n",
        "Help executives and stakeholders make informed decisions about content acquisition and production investments."
      ],
      "metadata": {
        "id": "PhDvGCAqmjP1"
      }
    },
    {
      "cell_type": "markdown",
      "source": [
        "# ***Let's Begin !***"
      ],
      "metadata": {
        "id": "O_i_v8NEhb9l"
      }
    },
    {
      "cell_type": "markdown",
      "source": [
        "## ***1. Know our Data***"
      ],
      "metadata": {
        "id": "HhfV-JJviCcP"
      }
    },
    {
      "cell_type": "markdown",
      "source": [
        "### Import Libraries"
      ],
      "metadata": {
        "id": "Y3lxredqlCYt"
      }
    },
    {
      "cell_type": "code",
      "source": [
        "# Import Libraries\n",
        "\n",
        "# Data manipulation and numerical computation\n",
        "import pandas as pd\n",
        "import numpy as np\n",
        "\n",
        "# Data visualization\n",
        "import matplotlib.pyplot as plt\n",
        "import seaborn as sns\n",
        "\n",
        "# To display all columns in pandas outputs\n",
        "pd.set_option('display.max_columns', None)\n",
        "\n",
        "# To ignore warnings for cleaner outputs\n",
        "import warnings\n",
        "warnings.filterwarnings('ignore')\n",
        "\n",
        "# For system and file handling (optional, useful in Colab)\n",
        "import os\n",
        "\n",
        "print(\"✅ Libraries imported successfully!\")"
      ],
      "metadata": {
        "id": "M8Vqi-pPk-HR"
      },
      "execution_count": null,
      "outputs": []
    },
    {
      "cell_type": "markdown",
      "source": [
        "### Dataset Loading"
      ],
      "metadata": {
        "id": "3RnN4peoiCZX"
      }
    },
    {
      "cell_type": "code",
      "source": [
        "import zipfile\n",
        "\n",
        "# Define file paths (update if needed)\n",
        "titles_zip_path = \"/content/titles.csv.zip\"\n",
        "credits_zip_path = \"/content/credits.csv.zip\"\n",
        "\n",
        "# Extract and load 'titles.csv'\n",
        "with zipfile.ZipFile(titles_zip_path, 'r') as z:\n",
        "    z.extractall(\"/content/\")\n",
        "    print(\"✅ Extracted:\", z.namelist())\n",
        "\n",
        "# Extract and load 'credits.csv'\n",
        "with zipfile.ZipFile(credits_zip_path, 'r') as z:\n",
        "    z.extractall(\"/content/\")\n",
        "    print(\"✅ Extracted:\", z.namelist())\n",
        "\n",
        "# Load CSVs into pandas DataFrames\n",
        "titles = pd.read_csv(\"/content/titles.csv\")\n",
        "credits = pd.read_csv(\"/content/credits.csv\")\n",
        "\n",
        "# Display basic info\n",
        "print(\"\\n✅ Datasets loaded successfully!\")\n",
        "print(f\"Titles dataset shape: {titles.shape}\")\n",
        "print(f\"Credits dataset shape: {credits.shape}\")\n",
        "\n",
        "# Show first few rows\n",
        "display(titles.head())\n",
        "display(credits.head())"
      ],
      "metadata": {
        "id": "4CkvbW_SlZ_R"
      },
      "execution_count": null,
      "outputs": []
    },
    {
      "cell_type": "markdown",
      "source": [
        "### Dataset First View"
      ],
      "metadata": {
        "id": "x71ZqKXriCWQ"
      }
    },
    {
      "cell_type": "code",
      "source": [
        "# View top 5 rows of each dataset\n",
        "print(\"🔹 Titles Dataset (Top 5 Rows):\")\n",
        "display(titles.head())\n",
        "\n",
        "print(\"\\n🔹 Credits Dataset (Top 5 Rows):\")\n",
        "display(credits.head())\n",
        "\n",
        "# Check dataset shapes\n",
        "print(f\"\\n📊 Titles Dataset Shape: {titles.shape}\")\n",
        "print(f\"📊 Credits Dataset Shape: {credits.shape}\")\n",
        "\n",
        "# Display basic information about data types and non-null counts\n",
        "print(\"\\nℹ️ Titles Dataset Info:\")\n",
        "titles.info()\n",
        "\n",
        "print(\"\\nℹ️ Credits Dataset Info:\")\n",
        "credits.info()\n",
        "\n",
        "# Quick summary statistics for numeric columns\n",
        "print(\"\\n📈 Titles Dataset Summary (Numerical Columns):\")\n",
        "display(titles.describe())\n",
        "\n",
        "# Check for missing values in both datasets\n",
        "print(\"\\n❓ Missing Values in Titles Dataset:\")\n",
        "display(titles.isnull().sum())\n",
        "\n",
        "print(\"\\n❓ Missing Values in Credits Dataset:\")\n",
        "display(credits.isnull().sum())"
      ],
      "metadata": {
        "id": "LWNFOSvLl09H"
      },
      "execution_count": null,
      "outputs": []
    },
    {
      "cell_type": "markdown",
      "source": [
        "### Dataset Rows & Columns count"
      ],
      "metadata": {
        "id": "7hBIi_osiCS2"
      }
    },
    {
      "cell_type": "code",
      "source": [
        "# Dataset Rows & Columns count\n",
        "titles_rows, titles_cols = titles.shape\n",
        "credits_rows, credits_cols = credits.shape\n",
        "\n",
        "# Display the results\n",
        "print(\"📂 Dataset Dimensions Summary\\n\")\n",
        "print(f\"Titles Dataset → Rows: {titles_rows}, Columns: {titles_cols}\")\n",
        "print(f\"Credits Dataset → Rows: {credits_rows}, Columns: {credits_cols}\")\n",
        "\n",
        "# Optional: Create a small summary DataFrame for cleaner presentation\n",
        "dataset_summary = pd.DataFrame({\n",
        "    'Dataset': ['Titles', 'Credits'],\n",
        "    'Rows': [titles_rows, credits_rows],\n",
        "    'Columns': [titles_cols, credits_cols]\n",
        "})\n",
        "\n",
        "display(dataset_summary)\n"
      ],
      "metadata": {
        "id": "Kllu7SJgmLij"
      },
      "execution_count": null,
      "outputs": []
    },
    {
      "cell_type": "markdown",
      "source": [
        "### Dataset Information"
      ],
      "metadata": {
        "id": "JlHwYmJAmNHm"
      }
    },
    {
      "cell_type": "code",
      "source": [
        "# Dataset Info\n",
        "\n",
        "print(\"🔍 Titles Dataset Information:\\n\")\n",
        "titles.info()\n",
        "\n",
        "print(\"\\n\" + \"=\"*60 + \"\\n\")\n",
        "\n",
        "print(\"🎭 Credits Dataset Information:\\n\")\n",
        "credits.info()\n",
        "\n",
        "# Optional: Display column names for quick overview\n",
        "print(\"\\n📋 Columns in Titles Dataset:\")\n",
        "print(list(titles.columns))\n",
        "\n",
        "print(\"\\n📋 Columns in Credits Dataset:\")\n",
        "print(list(credits.columns))\n",
        "\n",
        "# Optional: Check data types summary\n",
        "print(\"\\n📊 Data Types Summary (Titles):\")\n",
        "display(titles.dtypes.value_counts())\n",
        "\n",
        "print(\"\\n📊 Data Types Summary (Credits):\")\n",
        "display(credits.dtypes.value_counts())\n"
      ],
      "metadata": {
        "id": "e9hRXRi6meOf"
      },
      "execution_count": null,
      "outputs": []
    },
    {
      "cell_type": "markdown",
      "source": [
        "#### Duplicate Values"
      ],
      "metadata": {
        "id": "35m5QtbWiB9F"
      }
    },
    {
      "cell_type": "code",
      "source": [
        "# Dataset Duplicate Value Count\n",
        "# Count total duplicate rows\n",
        "duplicate_titles_count = titles.duplicated().sum()\n",
        "print(f\"Total duplicate rows in titles dataset: {duplicate_titles_count}\")\n",
        "\n",
        "# Optionally, display duplicate rows\n",
        "duplicate_titles = titles[titles.duplicated()]\n",
        "duplicate_titles.head()"
      ],
      "metadata": {
        "id": "1sLdpKYkmox0"
      },
      "execution_count": null,
      "outputs": []
    },
    {
      "cell_type": "code",
      "source": [
        "# Count total duplicate rows\n",
        "duplicate_credits_count = credits.duplicated().sum()\n",
        "print(f\"Total duplicate rows in credits dataset: {duplicate_credits_count}\")\n",
        "\n",
        "# Optionally, display duplicate rows\n",
        "duplicate_credits = credits[credits.duplicated()]\n",
        "duplicate_credits.head()"
      ],
      "metadata": {
        "id": "p4KrcsWbp_fo"
      },
      "execution_count": null,
      "outputs": []
    },
    {
      "cell_type": "markdown",
      "source": [
        "#### Missing Values/Null Values"
      ],
      "metadata": {
        "id": "PoPl-ycgm1ru"
      }
    },
    {
      "cell_type": "code",
      "source": [
        "# Missing Values/Null Values Count\n",
        "# Count missing values per column\n",
        "missing_titles = titles.isnull().sum()\n",
        "print(\"Missing values in titles dataset:\\n\", missing_titles)\n",
        "\n",
        "# Optionally, check percentage of missing values\n",
        "missing_titles_percent = (titles.isnull().sum() / len(titles)) * 100\n",
        "print(\"\\nPercentage of missing values per column:\\n\", missing_titles_percent)\n",
        "\n",
        "# Count missing values per column\n",
        "missing_credits = credits.isnull().sum()\n",
        "print(\"Missing values in credits dataset:\\n\", missing_credits)\n",
        "\n",
        "# Optionally, percentage\n",
        "missing_credits_percent = (credits.isnull().sum() / len(credits)) * 100\n",
        "print(\"\\nPercentage of missing values per column:\\n\", missing_credits_percent)\n"
      ],
      "metadata": {
        "id": "GgHWkxvamxVg"
      },
      "execution_count": null,
      "outputs": []
    },
    {
      "cell_type": "code",
      "source": [
        "# Visualizing the missing values\n",
        "import missingno as msno\n",
        "import matplotlib.pyplot as plt\n",
        "\n",
        "# Bar plot\n",
        "msno.bar(titles, figsize=(12,6), color='skyblue')\n",
        "plt.title(\"Missing Values in Titles Dataset\")\n",
        "plt.show()\n",
        "\n",
        "# Matrix plot\n",
        "msno.matrix(titles, figsize=(12,6))\n",
        "plt.title(\"Missing Values Matrix in Titles Dataset\")\n",
        "plt.show()\n",
        "\n",
        "# Heatmap\n",
        "msno.heatmap(titles, figsize=(12,6))\n",
        "plt.title(\"Missing Values Correlation in Titles Dataset\")\n",
        "plt.show()"
      ],
      "metadata": {
        "id": "3q5wnI3om9sJ"
      },
      "execution_count": null,
      "outputs": []
    },
    {
      "cell_type": "code",
      "source": [
        "# Bar plot\n",
        "msno.bar(credits, figsize=(12,6), color='orange')\n",
        "plt.title(\"Missing Values in Credits Dataset\")\n",
        "plt.show()\n",
        "\n",
        "# Matrix plot\n",
        "msno.matrix(credits, figsize=(12,6))\n",
        "plt.title(\"Missing Values Matrix in Credits Dataset\")\n",
        "plt.show()\n",
        "\n",
        "# Heatmap\n",
        "msno.heatmap(credits, figsize=(12,6))\n",
        "plt.title(\"Missing Values Correlation in Credits Dataset\")\n",
        "plt.show()"
      ],
      "metadata": {
        "id": "E731GS3ZrCt3"
      },
      "execution_count": null,
      "outputs": []
    },
    {
      "cell_type": "markdown",
      "source": [
        "### What did you know about your dataset?"
      ],
      "metadata": {
        "id": "H0kj-8xxnORC"
      }
    },
    {
      "cell_type": "markdown",
      "source": [
        "**1. Dataset Overview**\n",
        "\n",
        "Titles Dataset (titles.csv)\n",
        "\n",
        "Rows: ~9,000 unique shows and movies.\n",
        "\n",
        "Columns: 15 columns, including id, title, show_type, release_year, genres, age_certification, runtime, seasons, imdb_score, tmdb_popularity, etc.\n",
        "\n",
        "Data types: Mostly strings (title, genres), integers/floats (release_year, runtime, imdb_score).\n",
        "\n",
        "Duplicates: Likely minimal, but any exact row duplicates should be removed.\n",
        "\n",
        "Missing values: Some columns have missing data, e.g., imdb_score, runtime, age_certification.\n",
        "\n",
        "Credits Dataset (credits.csv)\n",
        "\n",
        "Rows: ~124,000 credits (actors and directors).\n",
        "\n",
        "Columns: person_ID, id, name, character_name, role.\n",
        "\n",
        "Data types: Mostly strings.\n",
        "\n",
        "Duplicates: Possible repeated rows for the same actor/director in the same title.\n",
        "\n",
        "Missing values: Some missing character_name (common for directors) or other details.\n",
        "\n",
        "**2. Key Insights from Initial Checks**\n",
        "\n",
        "Show Types:\n",
        "\n",
        "Dataset contains both TV Shows and Movies.\n",
        "\n",
        "Can analyze separately for trends, ratings, runtime, etc.\n",
        "\n",
        "Genres & Content Diversity:\n",
        "\n",
        "genres column may have multiple genres per title (e.g., \"Action, Comedy\").\n",
        "\n",
        "Popular genres can be counted and visualized.\n",
        "\n",
        "Ratings & Popularity:\n",
        "\n",
        "IMDb ratings (imdb_score) vary widely; some missing values exist.\n",
        "\n",
        "TMDB popularity can be used to measure current trends.\n",
        "\n",
        "Time Trends:\n",
        "\n",
        "release_year allows analyzing content growth over time.\n",
        "\n",
        "Can check which years had the most content releases.\n",
        "\n",
        "Actors & Directors:\n",
        "\n",
        "credits.csv allows identifying most frequent actors or directors.\n",
        "\n",
        "Can also analyze high-rated shows by actor or director.\n",
        "\n",
        "Missing Data Patterns:\n",
        "\n",
        "Missing values appear in imdb_score, runtime, and character_name.\n",
        "\n",
        "Visualizations (bar/matrix/heatmap) show where missing values are concentrated.\n",
        "\n",
        "**3. Next Steps for Analysis**\n",
        "\n",
        "Clean the dataset: remove duplicates, handle missing values.\n",
        "\n",
        "Extract features from columns:\n",
        "\n",
        "Split genres into separate rows for genre analysis.\n",
        "\n",
        "Convert release_year to categorical decades for trend analysis.\n",
        "\n",
        "EDA & Visualizations:\n",
        "\n",
        "Distribution of show types, genres, IMDb ratings.\n",
        "\n",
        "Trend of releases over time.\n",
        "\n",
        "Most popular actors/directors.\n",
        "\n",
        "Statistical Insights:\n",
        "\n",
        "Correlation between IMDb score and TMDB popularity.\n",
        "\n",
        "Compare ratings across show types or genres."
      ],
      "metadata": {
        "id": "gfoNAAC-nUe_"
      }
    },
    {
      "cell_type": "markdown",
      "source": [
        "## ***2. Understanding Your Variables***"
      ],
      "metadata": {
        "id": "nA9Y7ga8ng1Z"
      }
    },
    {
      "cell_type": "code",
      "source": [
        "# Dataset Columns\n",
        "import pandas as pd\n",
        "\n",
        "# Function to summarize dataset\n",
        "def dataset_summary(df, name):\n",
        "    summary = pd.DataFrame({\n",
        "        \"Column Name\": df.columns,\n",
        "        \"Data Type\": [df[col].dtype for col in df.columns],\n",
        "        \"Missing Values\": [df[col].isnull().sum() for col in df.columns],\n",
        "        \"Missing %\": [round(df[col].isnull().sum() / len(df) * 100, 2) for col in df.columns]\n",
        "    })\n",
        "    print(f\"\\nSummary for {name} dataset:\\n\")\n",
        "    return summary\n",
        "\n",
        "# Summary for titles dataset\n",
        "titles_summary = dataset_summary(titles, \"Titles\")\n",
        "print(titles_summary)\n",
        "\n",
        "# Summary for credits dataset\n",
        "credits_summary = dataset_summary(credits, \"Credits\")\n",
        "print(credits_summary)\n"
      ],
      "metadata": {
        "id": "j7xfkqrt5Ag5"
      },
      "execution_count": null,
      "outputs": []
    },
    {
      "cell_type": "code",
      "source": [
        "# Dataset Describe\n",
        "print(credits.describe())\n",
        "print(titles.describe())"
      ],
      "metadata": {
        "id": "DnOaZdaE5Q5t"
      },
      "execution_count": null,
      "outputs": []
    },
    {
      "cell_type": "markdown",
      "source": [
        "### Variables Description"
      ],
      "metadata": {
        "id": "PBTbrJXOngz2"
      }
    },
    {
      "cell_type": "markdown",
      "source": [
        "**Titles Dataset (titles.csv)**\n",
        "\n",
        "id (String): Unique identifier for each title (JustWatch ID). Primary key.\n",
        "\n",
        "title (String): Name of the show or movie. Can contain duplicates if remakes exist.\n",
        "\n",
        "show_type (String): Type of content: \"TV Show\" or \"Movie\". Useful for comparing trends and ratings.\n",
        "\n",
        "description (String): Short synopsis of the title. Can be used for NLP analysis.\n",
        "\n",
        "release_year (Int): Year the title was released. Can analyze content trends over time.\n",
        "\n",
        "age_certification (String): Age rating (e.g., PG, R, 18+). Some missing values possible.\n",
        "\n",
        "runtime (Float/Int): Duration in minutes. Missing for some TV shows; can calculate average runtime.\n",
        "\n",
        "genres (String): Genres associated with the title (e.g., \"Action, Comedy\"). Multiple genres possible per title.\n",
        "\n",
        "production_countries (String): Countries that produced the content. Useful for regional analysis.\n",
        "\n",
        "seasons (Float/Int): Number of seasons (if TV show). NaN for movies.\n",
        "\n",
        "imdb_id (String): IMDb identifier. Can be linked to IMDb database.\n",
        "\n",
        "imdb_score (Float): IMDb rating (out of 10). Missing for some titles.\n",
        "\n",
        "imdb_votes (Int): Number of IMDb votes. Useful for popularity analysis.\n",
        "\n",
        "tmdb_popularity (Float): Popularity score from TMDB. Reflects recent user engagement.\n",
        "\n",
        "tmdb_score (Float): TMDB rating (out of 10). Can be compared with IMDb ratings.\n",
        "\n",
        "\n",
        "**Credits Dataset (credits.csv)**\n",
        "\n",
        "person_ID (String): Unique identifier for each person (actor or director). Primary key.\n",
        "\n",
        "id (String): Title ID linking to titles.csv. Can join datasets on this column.\n",
        "\n",
        "name (String): Name of the actor or director. Can have duplicates across different titles.\n",
        "\n",
        "character_name (String): Name of the character played. Missing for directors or unnamed roles.\n",
        "\n",
        "role (String): Either \"ACTOR\" or \"DIRECTOR\". Helps separate actor and director analysis."
      ],
      "metadata": {
        "id": "aJV4KIxSnxay"
      }
    },
    {
      "cell_type": "markdown",
      "source": [
        "### Check Unique Values for each variable."
      ],
      "metadata": {
        "id": "u3PMJOP6ngxN"
      }
    },
    {
      "cell_type": "code",
      "source": [
        "# Check Unique Values for each variable.\n",
        "\n",
        "print(\"Unique values in Titles Dataset:\")\n",
        "titles_unique = titles.nunique()\n",
        "print(titles_unique)\n",
        "\n",
        "print(\"\\n-----------------------------\\n\")\n",
        "\n",
        "# Check unique values for each column in credits dataset\n",
        "print(\"Unique values in Credits Dataset:\")\n",
        "credits_unique = credits.nunique()\n",
        "print(credits_unique)\n"
      ],
      "metadata": {
        "id": "zms12Yq5n-jE"
      },
      "execution_count": null,
      "outputs": []
    },
    {
      "cell_type": "markdown",
      "source": [
        "## 3. ***Data Wrangling***"
      ],
      "metadata": {
        "id": "dauF4eBmngu3"
      }
    },
    {
      "cell_type": "markdown",
      "source": [
        "### Data Wrangling Code"
      ],
      "metadata": {
        "id": "bKJF3rekwFvQ"
      }
    },
    {
      "cell_type": "code",
      "source": [
        "# Write your code to make your dataset analysis ready.\n",
        "# Import libraries\n",
        "import pandas as pd\n",
        "import numpy as np\n",
        "\n",
        "# 1. Remove Duplicate Rows\n",
        "# ---------------------------\n",
        "titles = titles.drop_duplicates()\n",
        "credits = credits.drop_duplicates()\n",
        "\n",
        "# ---------------------------\n",
        "# 2. Handle Missing Values\n",
        "# ---------------------------\n",
        "\n",
        "# For titles dataset\n",
        "# Fill missing numeric values with median\n",
        "titles['imdb_score'] = titles['imdb_score'].fillna(titles['imdb_score'].median())\n",
        "titles['tmdb_score'] = titles['tmdb_score'].fillna(titles['tmdb_score'].median())\n",
        "titles['runtime'] = titles['runtime'].fillna(titles['runtime'].median())\n",
        "\n",
        "# Fill missing categorical values with 'Unknown'\n",
        "titles['age_certification'] = titles['age_certification'].fillna('Unknown')\n",
        "titles['genres'] = titles['genres'].fillna('Unknown')\n",
        "titles['production_countries'] = titles['production_countries'].fillna('Unknown')\n",
        "titles['seasons'] = titles['seasons'].fillna(0)  # 0 for movies\n",
        "\n",
        "# For credits dataset\n",
        "credits['character'] = credits['character'].fillna('Unknown')\n",
        "\n",
        "# ---------------------------\n",
        "# 3. Convert Data Types\n",
        "# ---------------------------\n",
        "titles['release_year'] = titles['release_year'].astype(int)\n",
        "titles['seasons'] = titles['seasons'].astype(int)\n",
        "titles['runtime'] = titles['runtime'].astype(int)\n",
        "\n",
        "# ---------------------------\n",
        "# 4. Split Multiple Genres into List\n",
        "# ---------------------------\n",
        "titles['genres'] = titles['genres'].apply(lambda x: [i.strip() for i in x.split(',')] if x != 'Unknown' else [])\n",
        "\n",
        "# ---------------------------\n",
        "# 5. Merge Datasets (Optional)\n",
        "# ---------------------------\n",
        "# Merge titles and credits on 'id' if you want to analyze actors/directors\n",
        "# full_data = pd.merge(credits, titles, on='id', how='left')\n",
        "\n",
        "# ---------------------------\n",
        "# 6. Reset Index\n",
        "# ---------------------------\n",
        "titles.reset_index(drop=True, inplace=True)\n",
        "credits.reset_index(drop=True, inplace=True)\n",
        "\n",
        "# ---------------------------\n",
        "# 7. Quick Check\n",
        "# ---------------------------\n",
        "print(\"Titles Dataset Shape:\", titles.shape)\n",
        "print(\"Credits Dataset Shape:\", credits.shape)\n",
        "print(\"\\nTitles Dataset Info:\")\n",
        "print(titles.info())\n",
        "print(\"\\nCredits Dataset Info:\")\n",
        "print(credits.info())"
      ],
      "metadata": {
        "id": "wk-9a2fpoLcV"
      },
      "execution_count": null,
      "outputs": []
    },
    {
      "cell_type": "markdown",
      "source": [
        "### What all manipulations have you done and insights you found?"
      ],
      "metadata": {
        "id": "MSa1f5Uengrz"
      }
    },
    {
      "cell_type": "markdown",
      "source": [
        "### **1. Data Manipulations (Data Wrangling Steps)**\n",
        "\n",
        "Removed duplicate rows\n",
        "\n",
        "Ensured no repeated titles or credits exist, which could bias analysis.\n",
        "\n",
        "Handled missing values\n",
        "\n",
        "Numeric columns (imdb_score, tmdb_score, runtime): filled with median values.\n",
        "\n",
        "Categorical columns (age_certification, genres, production_countries): filled with \"Unknown\".\n",
        "\n",
        "seasons: filled missing values with 0 for movies.\n",
        "\n",
        "character_name in credits: filled with \"Unknown\".\n",
        "\n",
        "Converted data types\n",
        "\n",
        "release_year → integer\n",
        "\n",
        "seasons → integer\n",
        "\n",
        "runtime → integer\n",
        "This ensures correct calculations and plotting.\n",
        "\n",
        "Split multiple genres into a list\n",
        "\n",
        "Converted strings like \"Action, Comedy\" into a Python list [\"Action\", \"Comedy\"] for easy genre-level analysis.\n",
        "\n",
        "Merged datasets (optional)\n",
        "\n",
        "titles and credits can be merged on id to analyze actor/director contributions for each title.\n",
        "\n",
        "Reset index\n",
        "\n",
        "Cleaned up dataset index after dropping duplicates and missing values.\n",
        "\n",
        "### **2. Insights from Initial Data Exploration**\n",
        "\n",
        "Show Type Distribution\n",
        "\n",
        "Dataset contains both Movies and TV Shows.\n",
        "\n",
        "TV shows have additional info like seasons, which movies don’t.\n",
        "\n",
        "Content Diversity\n",
        "\n",
        "genres column contains multiple genres per title.\n",
        "\n",
        "Common genres: Action, Comedy, Drama.\n",
        "\n",
        "Many titles have multiple genres, indicating cross-genre content.\n",
        "\n",
        "Ratings & Popularity\n",
        "\n",
        "IMDb and TMDB scores vary widely.\n",
        "\n",
        "Some popular titles have low votes, some older content has high votes but moderate scores.\n",
        "\n",
        "Missing Data Patterns\n",
        "\n",
        "Missing values were mostly in age_certification, runtime, imdb_score, and character_name.\n",
        "\n",
        "Filling missing values ensures clean analysis.\n",
        "\n",
        "Seasons for TV Shows\n",
        "\n",
        "Most TV shows have 1–3 seasons.\n",
        "\n",
        "A few long-running series have 10+ seasons.\n",
        "\n",
        "Actors & Directors\n",
        "\n",
        "Some actors appear in multiple titles.\n",
        "\n",
        "Directors are fewer and often associated with higher-rated shows.\n",
        "\n",
        "Time Trends\n",
        "\n",
        "release_year allows plotting trends over time, e.g., which years had more content releases."
      ],
      "metadata": {
        "id": "LbyXE7I1olp8"
      }
    },
    {
      "cell_type": "markdown",
      "source": [
        "## ***4. Data Vizualization, Storytelling & Experimenting with charts : Understand the relationships between variables***"
      ],
      "metadata": {
        "id": "GF8Ens_Soomf"
      }
    },
    {
      "cell_type": "markdown",
      "source": [
        "#### Chart - 1"
      ],
      "metadata": {
        "id": "0wOQAZs5pc--"
      }
    },
    {
      "cell_type": "code",
      "source": [
        "# Chart - 1 visualization code\n",
        "import matplotlib.pyplot as plt\n",
        "import seaborn as sns\n",
        "\n",
        "# Set style\n",
        "sns.set(style=\"whitegrid\")\n",
        "\n",
        "# Chart 1: Show Type Distribution\n",
        "plt.figure(figsize=(8,5))\n",
        "sns.countplot(data=titles, x='type', palette='pastel')\n",
        "plt.title('Distribution of Show Types on Amazon Prime Video', fontsize=16)\n",
        "plt.xlabel('Show Type', fontsize=12)\n",
        "plt.ylabel('Count', fontsize=12)\n",
        "\n",
        "# Show count labels on top of bars\n",
        "for p in plt.gca().patches:\n",
        "    plt.gca().annotate(f'{p.get_height()}', (p.get_x() + p.get_width()/2., p.get_height()),\n",
        "                       ha='center', va='bottom', fontsize=11, color='black')\n",
        "\n",
        "plt.show()"
      ],
      "metadata": {
        "id": "7v_ESjsspbW7"
      },
      "execution_count": null,
      "outputs": []
    },
    {
      "cell_type": "markdown",
      "source": [
        "##### 1. Why did you pick the specific chart?"
      ],
      "metadata": {
        "id": "K5QZ13OEpz2H"
      }
    },
    {
      "cell_type": "markdown",
      "source": [
        "I chose this bar chart because it is the most effective way to compare categorical data — in this case, the two show types: Movies and TV Shows — based on their counts.\n",
        "\n",
        "Bar charts clearly display the difference in frequency between categories, making it easy to see that Movies (8,511 titles) far outnumber TV Shows (1,357 titles) on Amazon Prime Video.\n",
        "\n",
        "This visualization helps quickly identify which type of content dominates the platform, aligning with the project goal of analyzing content distribution and trends."
      ],
      "metadata": {
        "id": "XESiWehPqBRc"
      }
    },
    {
      "cell_type": "markdown",
      "source": [
        "##### 2. What is/are the insight(s) found from the chart?"
      ],
      "metadata": {
        "id": "lQ7QKXXCp7Bj"
      }
    },
    {
      "cell_type": "markdown",
      "source": [
        "From the chart, it is clear that Movies dominate Amazon Prime Video’s content library, with 8,511 titles compared to only 1,357 TV shows.\n",
        "\n",
        "This means that around 86% of the available content consists of movies, while only 14% are TV shows.\n",
        "\n",
        "**Insight:**\n",
        "Amazon Prime Video focuses more on movie-based content rather than TV shows, indicating that its content strategy might prioritize a larger variety of films to attract diverse audiences, rather than producing or hosting long-running TV series."
      ],
      "metadata": {
        "id": "C_j1G7yiqdRP"
      }
    },
    {
      "cell_type": "markdown",
      "source": [
        "##### 3. Will the gained insights help creating a positive business impact?\n",
        "Are there any insights that lead to negative growth? Justify with specific reason."
      ],
      "metadata": {
        "id": "448CDAPjqfQr"
      }
    },
    {
      "cell_type": "markdown",
      "source": [
        "**Positive Business Impact:**\n",
        "\n",
        "Yes, the insights can help create a positive business impact.\n",
        "Understanding that movies form the majority of Amazon Prime Video’s content allows the company to:\n",
        "\n",
        "Enhance marketing strategies by promoting movie-based campaigns to attract new users.\n",
        "\n",
        "Identify growth opportunities for expanding TV show collections to improve audience retention.\n",
        "\n",
        "Support data-driven content investment — for example, allocating more budget to high-performing movie genres.\n",
        "\n",
        "Overall, this insight helps content strategists and investors make informed decisions about what type of content to produce or acquire.\n",
        "\n",
        "**Possible Negative Growth Insight:**\n",
        "\n",
        "On the other hand, the imbalance between movies and TV shows could potentially lead to negative growth if not addressed.\n",
        "\n",
        "A limited number of TV shows might reduce user engagement and retention, as viewers often subscribe to streaming platforms for long-form series.\n",
        "\n",
        "Competitors like Netflix and Disney+, which have strong TV show libraries, might attract users looking for ongoing series.\n",
        "\n",
        "**Justification:**\n",
        "\n",
        "While the dominance of movies currently benefits Amazon Prime Video, the lack of balance may impact long-term viewer loyalty.\n",
        "Hence, the company should consider investing more in original TV shows to sustain continuous user engagement and compete effectively in the streaming market."
      ],
      "metadata": {
        "id": "3cspy4FjqxJW"
      }
    },
    {
      "cell_type": "markdown",
      "source": [
        "#### Chart - 2"
      ],
      "metadata": {
        "id": "KSlN3yHqYklG"
      }
    },
    {
      "cell_type": "code",
      "source": [
        "# Chart - 2 visualization code\n",
        "# Import libraries (if not already)\n",
        "import matplotlib.pyplot as plt\n",
        "import seaborn as sns\n",
        "\n",
        "# Explode the genres list into separate rows\n",
        "titles_exploded = titles.explode('genres')\n",
        "\n",
        "# Remove 'Unknown' genres\n",
        "titles_exploded = titles_exploded[titles_exploded['genres'] != 'Unknown']\n",
        "\n",
        "# Count top 10 genres\n",
        "top_genres = titles_exploded['genres'].value_counts().nlargest(10)\n",
        "\n",
        "# Plot\n",
        "plt.figure(figsize=(10,6))\n",
        "sns.barplot(x=top_genres.values, y=top_genres.index, palette='viridis')\n",
        "plt.title('Top 10 Genres on Amazon Prime Video', fontsize=16)\n",
        "plt.xlabel('Number of Titles', fontsize=12)\n",
        "plt.ylabel('Genre', fontsize=12)\n",
        "\n",
        "# Annotate bars\n",
        "for index, value in enumerate(top_genres.values):\n",
        "    plt.text(value + 5, index, str(value), va='center', fontsize=11)\n",
        "\n",
        "plt.show()"
      ],
      "metadata": {
        "id": "R4YgtaqtYklH"
      },
      "execution_count": null,
      "outputs": []
    },
    {
      "cell_type": "markdown",
      "source": [
        "##### 1. Why did you pick the specific chart?"
      ],
      "metadata": {
        "id": "t6dVpIINYklI"
      }
    },
    {
      "cell_type": "markdown",
      "source": [
        "I chose a horizontal bar chart because it is ideal for comparing the number of titles across multiple genres. This type of visualization makes it easy to identify which genres dominate the platform and how they rank against one another. The horizontal layout also allows longer genre labels to be displayed clearly without overlapping."
      ],
      "metadata": {
        "id": "5aaW0BYyYklI"
      }
    },
    {
      "cell_type": "markdown",
      "source": [
        "##### 2. What is/are the insight(s) found from the chart?"
      ],
      "metadata": {
        "id": "ijmpgYnKYklI"
      }
    },
    {
      "cell_type": "markdown",
      "source": [
        "From the chart, we can see that:\n",
        "\n",
        "Drama is the most popular genre on Amazon Prime Video, with over 1,700 titles.\n",
        "\n",
        "Comedy, Thriller, and Romance also have a significant presence, while genres like Action have slightly fewer titles.\n",
        "\n",
        "Overall, Prime Video seems to focus heavily on drama and comedy, suggesting a content strategy centered on storytelling and entertainment.\n",
        "\n",
        "**Insight Summary:**\n",
        "Amazon Prime Video’s library is dominated by drama and comedy genres, reflecting the platform’s focus on emotionally engaging and widely appealing content."
      ],
      "metadata": {
        "id": "PSx9atu2YklI"
      }
    },
    {
      "cell_type": "markdown",
      "source": [
        "##### 3. Will the gained insights help creating a positive business impact?\n",
        "Are there any insights that lead to negative growth? Justify with specific reason."
      ],
      "metadata": {
        "id": "-JiQyfWJYklI"
      }
    },
    {
      "cell_type": "markdown",
      "source": [
        "**Positive Impact:**\n",
        "\n",
        "Yes, these insights can be valuable for content strategists and marketing teams:\n",
        "\n",
        "Content Acquisition: Knowing that Drama and Comedy perform well can help the platform invest more in similar content to maintain engagement.\n",
        "\n",
        "Marketing Focus: Promotions can highlight trending genres to attract new users.\n",
        "\n",
        "Audience Segmentation: Insights about popular genres can guide personalized recommendations and improve user satisfaction.\n",
        "\n",
        "**Possible Negative Growth Insight:**\n",
        "\n",
        "However, over-reliance on a few genres (Drama and Comedy) may lead to:\n",
        "\n",
        "Reduced content diversity, causing viewer fatigue or disinterest among users who prefer other genres like Sci-Fi or Documentary.\n",
        "\n",
        "Lost market opportunities if niche audiences (e.g., action or horror fans) shift to competitors with more varied libraries.\n",
        "\n",
        "**Justification:**\n",
        "To sustain long-term growth, Amazon Prime Video should diversify its content portfolio by producing or acquiring more titles in underrepresented genres, ensuring broader audience appeal and competitiveness in the streaming market."
      ],
      "metadata": {
        "id": "BcBbebzrYklV"
      }
    },
    {
      "cell_type": "markdown",
      "source": [
        "#### Chart - 3"
      ],
      "metadata": {
        "id": "EM7whBJCYoAo"
      }
    },
    {
      "cell_type": "code",
      "source": [
        "# Chart - 3 visualization code\n",
        "import matplotlib.pyplot as plt\n",
        "import seaborn as sns\n",
        "\n",
        "# Set style\n",
        "sns.set(style=\"whitegrid\")\n",
        "\n",
        "# Chart 3: IMDb Score vs Show Type\n",
        "plt.figure(figsize=(8,6))\n",
        "sns.boxplot(data=titles, x='type', y='imdb_score', palette='pastel')\n",
        "plt.title('IMDb Score Distribution by Show Type', fontsize=16)\n",
        "plt.xlabel('Show Type', fontsize=12)\n",
        "plt.ylabel('IMDb Score', fontsize=12)\n",
        "plt.ylim(0,10)  # IMDb scores are between 0 and 10\n",
        "\n",
        "# Optional: overlay swarmplot for more detail\n",
        "sns.swarmplot(data=titles, x='type', y='imdb_score', color='0.25', alpha=0.5, size=3)\n",
        "\n",
        "plt.show()"
      ],
      "metadata": {
        "id": "t6GMdE67YoAp"
      },
      "execution_count": null,
      "outputs": []
    },
    {
      "cell_type": "markdown",
      "source": [
        "##### 1. Why did you pick the specific chart?"
      ],
      "metadata": {
        "id": "fge-S5ZAYoAp"
      }
    },
    {
      "cell_type": "markdown",
      "source": [
        "I chose a box and swarm plot because it effectively shows the distribution, spread, and variability of IMDb scores for both TV Shows and Movies. This chart helps in identifying median values, interquartile ranges, and outliers, giving a clear understanding of how the audience rates each type of content.\n",
        "The swarm plot overlay (dots) adds detail by displaying the density of individual data points, making it easier to observe trends and clustering in ratings."
      ],
      "metadata": {
        "id": "5dBItgRVYoAp"
      }
    },
    {
      "cell_type": "markdown",
      "source": [
        "##### 2. What is/are the insight(s) found from the chart?"
      ],
      "metadata": {
        "id": "85gYPyotYoAp"
      }
    },
    {
      "cell_type": "markdown",
      "source": [
        "From the chart, we can observe that:\n",
        "\n",
        "TV Shows tend to have slightly higher median IMDb scores compared to Movies.\n",
        "\n",
        "The spread (interquartile range) for both types is similar, but TV Shows show fewer low-rated outliers.\n",
        "\n",
        "Movies have a wider distribution, with some titles rated very low, indicating inconsistent quality.\n",
        "\n",
        "**Insight Summary:**\n",
        "TV Shows generally receive more consistent and higher ratings than Movies, suggesting that audiences perceive Prime’s TV content as more engaging or better produced on average."
      ],
      "metadata": {
        "id": "4jstXR6OYoAp"
      }
    },
    {
      "cell_type": "markdown",
      "source": [
        "##### 3. Will the gained insights help creating a positive business impact?\n",
        "Are there any insights that lead to negative growth? Justify with specific reason."
      ],
      "metadata": {
        "id": "RoGjAbkUYoAp"
      }
    },
    {
      "cell_type": "markdown",
      "source": [
        "**Positive Impact:**\n",
        "\n",
        "Yes — this insight can be valuable for content strategy and investment decisions:\n",
        "\n",
        "It indicates that Amazon Prime’s TV content quality is well-received, so the platform could invest more in producing high-quality shows to enhance engagement and subscriber retention.\n",
        "\n",
        "It also highlights the need to improve movie quality by being more selective in acquisitions or focusing on original, high-rated productions.\n",
        "\n",
        "**Possible Negative Growth Insight:**\n",
        "\n",
        "However, if the lower-rated movies continue to dominate the library, it may lead to:\n",
        "\n",
        "Reduced viewer satisfaction and poor user reviews.\n",
        "\n",
        "Negative brand perception regarding movie quality.\n",
        "\n",
        "**Justification:**\n",
        "Maintaining too many low-rated movies can hurt overall platform reputation. Therefore, Amazon Prime Video should balance its content mix — keep expanding well-performing TV shows while curating movies more strategically to ensure sustained viewer satisfaction and platform growth."
      ],
      "metadata": {
        "id": "zfJ8IqMcYoAp"
      }
    },
    {
      "cell_type": "markdown",
      "source": [
        "#### Chart - 4"
      ],
      "metadata": {
        "id": "4Of9eVA-YrdM"
      }
    },
    {
      "cell_type": "code",
      "source": [
        "# Chart - 4 visualization code\n",
        "import matplotlib.pyplot as plt\n",
        "import seaborn as sns\n",
        "\n",
        "# Set style\n",
        "sns.set(style=\"whitegrid\")\n",
        "\n",
        "# Count number of titles released each year\n",
        "release_trend = titles.groupby('release_year')['title'].count().reset_index()\n",
        "\n",
        "# Plot\n",
        "plt.figure(figsize=(12,6))\n",
        "sns.lineplot(data=release_trend, x='release_year', y='title', marker='o', color='teal')\n",
        "plt.title('Number of Titles Released Each Year on Amazon Prime Video', fontsize=16)\n",
        "plt.xlabel('Release Year', fontsize=12)\n",
        "plt.ylabel('Number of Titles', fontsize=12)\n",
        "plt.xticks(rotation=45)\n",
        "plt.grid(True)\n",
        "plt.show()"
      ],
      "metadata": {
        "id": "irlUoxc8YrdO"
      },
      "execution_count": null,
      "outputs": []
    },
    {
      "cell_type": "markdown",
      "source": [
        "##### 1. Why did you pick the specific chart?"
      ],
      "metadata": {
        "id": "iky9q4vBYrdO"
      }
    },
    {
      "cell_type": "markdown",
      "source": [
        "I chose a line chart because it is the most effective way to visualize trends over time. In this case, I wanted to analyze how the number of titles released each year has changed.\n",
        "A line chart clearly shows upward or downward trends, peaks, and dips, making it easy to interpret how Amazon Prime Video’s content library has evolved historically."
      ],
      "metadata": {
        "id": "aJRCwT6DYrdO"
      }
    },
    {
      "cell_type": "markdown",
      "source": [
        "##### 2. What is/are the insight(s) found from the chart?"
      ],
      "metadata": {
        "id": "F6T5p64dYrdO"
      }
    },
    {
      "cell_type": "markdown",
      "source": [
        "From the chart, we can observe:\n",
        "\n",
        "A gradual increase in the number of titles released over time, especially after 2015.\n",
        "\n",
        "This indicates that Amazon Prime has been expanding its content library rapidly in recent years.\n",
        "\n",
        "Some years may show spikes or drops, which could be due to strategic content investments or external factors (e.g., production slowdowns during the pandemic).\n",
        "\n",
        "Overall, the trend suggests that Amazon Prime is growing its catalog aggressively to compete with other streaming platforms like Netflix and Disney+."
      ],
      "metadata": {
        "id": "Xx8WAJvtYrdO"
      }
    },
    {
      "cell_type": "markdown",
      "source": [
        "##### 3. Will the gained insights help creating a positive business impact?\n",
        "Are there any insights that lead to negative growth? Justify with specific reason."
      ],
      "metadata": {
        "id": "y-Ehk30pYrdP"
      }
    },
    {
      "cell_type": "markdown",
      "source": [
        "The line chart showing the number of titles released each year on Amazon Prime Video reveals a steady growth trend in content production, particularly after 2015. This indicates that Amazon Prime has been actively expanding its content library to attract and retain subscribers in the competitive streaming market. Such insights can help the business evaluate the effectiveness of its content strategy, allocate budgets for future productions, and identify periods of high growth to replicate their success.\n",
        "\n",
        "However, there are certain years that may show a temporary decline or stagnation in content releases — for example, around 2020–2021, likely due to the global COVID-19 pandemic disrupting film and series production. While this appears as negative growth, it may also reflect strategic choices to focus on quality rather than quantity, investing in original, high-performing shows instead of mass content.\n",
        "\n",
        "Overall, the insight supports positive business impact, as understanding these trends enables Amazon Prime to plan future content investments, balance its production pipeline, and strengthen its market position based on data-driven decisions."
      ],
      "metadata": {
        "id": "jLNxxz7MYrdP"
      }
    },
    {
      "cell_type": "markdown",
      "source": [
        "#### Chart - 5"
      ],
      "metadata": {
        "id": "bamQiAODYuh1"
      }
    },
    {
      "cell_type": "code",
      "source": [
        "# Chart - 5 visualization code\n",
        "import matplotlib.pyplot as plt\n",
        "import seaborn as sns\n",
        "\n",
        "# Ensure credits is loaded\n",
        "# credits = pd.read_csv(\"credits.csv\")\n",
        "\n",
        "# Prepare data\n",
        "actors = credits[credits['role'].str.upper() == 'ACTOR']\n",
        "directors = credits[credits['role'].str.upper() == 'DIRECTOR']\n",
        "\n",
        "top_actors = actors['name'].value_counts().nlargest(10).reset_index()\n",
        "top_actors.columns = ['name', 'count']\n",
        "\n",
        "top_directors = directors['name'].value_counts().nlargest(10).reset_index()\n",
        "top_directors.columns = ['name', 'count']\n",
        "\n",
        "# Plot\n",
        "sns.set(style=\"whitegrid\")\n",
        "fig, axes = plt.subplots(1, 2, figsize=(16, 8), sharey=False)\n",
        "\n",
        "# Left: Top Actors\n",
        "sns.barplot(x='count', y='name', data=top_actors, ax=axes[0], palette='pastel')\n",
        "axes[0].set_title('Top 10 Actors by Number of Credits', fontsize=14)\n",
        "axes[0].set_xlabel('Number of Credits', fontsize=12)\n",
        "axes[0].set_ylabel('Actor', fontsize=12)\n",
        "for i, v in enumerate(top_actors['count']):\n",
        "    axes[0].text(v + 1, i, str(v), va='center', fontsize=10)\n",
        "\n",
        "# Right: Top Directors\n",
        "sns.barplot(x='count', y='name', data=top_directors, ax=axes[1], palette='pastel')\n",
        "axes[1].set_title('Top 10 Directors by Number of Credits', fontsize=14)\n",
        "axes[1].set_xlabel('Number of Credits', fontsize=12)\n",
        "axes[1].set_ylabel('')  # no duplicate y-label\n",
        "for i, v in enumerate(top_directors['count']):\n",
        "    axes[1].text(v + 1, i, str(v), va='center', fontsize=10)\n",
        "\n",
        "plt.tight_layout()\n",
        "plt.show()"
      ],
      "metadata": {
        "id": "TIJwrbroYuh3"
      },
      "execution_count": null,
      "outputs": []
    },
    {
      "cell_type": "markdown",
      "source": [
        "##### 1. Why did you pick the specific chart?"
      ],
      "metadata": {
        "id": "QHF8YVU7Yuh3"
      }
    },
    {
      "cell_type": "markdown",
      "source": [
        "I chose this horizontal bar chart because it clearly visualizes and compares the top actors and directors based on the number of titles they have worked on. It helps identify the most frequent contributors on Amazon Prime Video and provides a quick view of collaboration patterns across productions."
      ],
      "metadata": {
        "id": "dcxuIMRPYuh3"
      }
    },
    {
      "cell_type": "markdown",
      "source": [
        "##### 2. What is/are the insight(s) found from the chart?"
      ],
      "metadata": {
        "id": "GwzvFGzlYuh3"
      }
    },
    {
      "cell_type": "markdown",
      "source": [
        "From the chart, it’s evident that a few actors and directors appear frequently across different titles, indicating that Amazon Prime tends to work repeatedly with certain talent. This suggests strong partnerships and possibly higher audience trust or engagement with content featuring these individuals. It also highlights who the key creative contributors are within the platform’s ecosystem."
      ],
      "metadata": {
        "id": "uyqkiB8YYuh3"
      }
    },
    {
      "cell_type": "markdown",
      "source": [
        "##### 3. Will the gained insights help creating a positive business impact?\n",
        "Are there any insights that lead to negative growth? Justify with specific reason."
      ],
      "metadata": {
        "id": "qYpmQ266Yuh3"
      }
    },
    {
      "cell_type": "markdown",
      "source": [
        "Yes, the insights can help create a positive business impact by enabling Amazon Prime to identify its most successful collaborators and use them strategically in future productions and promotions. These insights can guide casting, partnership, and marketing decisions to maximize viewer engagement.\n",
        "\n",
        "However, one potential negative insight is the over-reliance on a small pool of actors or directors, which could result in content repetition or reduced variety. To avoid this, Amazon Prime should balance popular collaborations with opportunities for new and diverse talent, ensuring sustained audience interest and creativity in future releases."
      ],
      "metadata": {
        "id": "_WtzZ_hCYuh4"
      }
    },
    {
      "cell_type": "markdown",
      "source": [
        "#### Chart - 6"
      ],
      "metadata": {
        "id": "OH-pJp9IphqM"
      }
    },
    {
      "cell_type": "code",
      "source": [
        "# Chart - 6 visualization code\n",
        "# Chart 6: IMDb Score vs TMDB Popularity (scatter) with regression line and top-title annotations\n",
        "import matplotlib.pyplot as plt\n",
        "import seaborn as sns\n",
        "import numpy as np\n",
        "import pandas as pd\n",
        "\n",
        "# Ensure titles is loaded\n",
        "# titles = pd.read_csv(\"titles.csv\")\n",
        "\n",
        "# Prepare data: select relevant columns and drop missing values\n",
        "df_scatter = titles[['title', 'imdb_score', 'tmdb_popularity']].copy()\n",
        "df_scatter['tmdb_popularity'] = pd.to_numeric(df_scatter['tmdb_popularity'], errors='coerce')\n",
        "df_scatter = df_scatter.dropna(subset=['imdb_score', 'tmdb_popularity'])\n",
        "\n",
        "# Add a log-popularity column to reduce skew (many popularity measures are right-skewed)\n",
        "df_scatter['tmdb_pop_log'] = np.log10(df_scatter['tmdb_popularity'] + 1)\n",
        "\n",
        "# Optional: limit extreme outliers for better visualization (uncomment to use)\n",
        "# upper_pop = df_scatter['tmdb_pop_log'].quantile(0.99)\n",
        "# df_scatter = df_scatter[df_scatter['tmdb_pop_log'] <= upper_pop]\n",
        "\n",
        "# Plot\n",
        "sns.set(style=\"whitegrid\")\n",
        "plt.figure(figsize=(10,7))\n",
        "\n",
        "# Scatter points sized by (optional) small constant so they're visible\n",
        "sns.scatterplot(\n",
        "    data=df_scatter,\n",
        "    x='tmdb_pop_log',\n",
        "    y='imdb_score',\n",
        "    alpha=0.6,\n",
        "    s=40\n",
        ")\n",
        "\n",
        "# Add a linear regression fit on the transformed popularity axis\n",
        "sns.regplot(\n",
        "    data=df_scatter,\n",
        "    x='tmdb_pop_log',\n",
        "    y='imdb_score',\n",
        "    scatter=False,\n",
        "    ci=95,\n",
        "    line_kws={'color':'red', 'linewidth':1.5, 'alpha':0.8}\n",
        ")\n",
        "\n",
        "plt.title('IMDb Score vs log10(TMDb Popularity + 1)', fontsize=16)\n",
        "plt.xlabel('log10(TMDb Popularity + 1)', fontsize=12)\n",
        "plt.ylabel('IMDb Score', fontsize=12)\n",
        "plt.ylim(0, 10)\n",
        "\n",
        "# Annotate top 5 most popular and top 5 highest-rated titles (avoid duplicate annotations)\n",
        "top_pop = df_scatter.nlargest(5, 'tmdb_popularity')\n",
        "top_score = df_scatter.nlargest(5, 'imdb_score')\n",
        "\n",
        "annotated = set()\n",
        "for _, row in pd.concat([top_pop, top_score]).drop_duplicates().iterrows():\n",
        "    x = row['tmdb_pop_log']\n",
        "    y = row['imdb_score']\n",
        "    title = row['title']\n",
        "    if title in annotated:\n",
        "        continue\n",
        "    plt.annotate(\n",
        "        title,\n",
        "        xy=(x, y),\n",
        "        xytext=(5, 5),\n",
        "        textcoords='offset points',\n",
        "        fontsize=9,\n",
        "        bbox=dict(boxstyle=\"round,pad=0.2\", fc=\"yellow\", alpha=0.3)\n",
        "    )\n",
        "    annotated.add(title)\n",
        "\n",
        "plt.tight_layout()\n",
        "plt.show()"
      ],
      "metadata": {
        "id": "kuRf4wtuphqN"
      },
      "execution_count": null,
      "outputs": []
    },
    {
      "cell_type": "markdown",
      "source": [
        "##### 1. Why did you pick the specific chart?"
      ],
      "metadata": {
        "id": "bbFf2-_FphqN"
      }
    },
    {
      "cell_type": "markdown",
      "source": [
        "I chose a scatter plot because it is ideal for visualizing the relationship between two continuous variables — in this case, IMDb Score and TMDb Popularity. This chart helps to understand whether highly popular titles also tend to have higher audience ratings or if popularity and quality are not strongly correlated. The addition of a regression line helps reveal the general trend between these two metrics."
      ],
      "metadata": {
        "id": "loh7H2nzphqN"
      }
    },
    {
      "cell_type": "markdown",
      "source": [
        "##### 2. What is/are the insight(s) found from the chart?"
      ],
      "metadata": {
        "id": "_ouA3fa0phqN"
      }
    },
    {
      "cell_type": "markdown",
      "source": [
        "From the scatter plot, it can be observed that there is a mild positive correlation between IMDb Scores and TMDb Popularity — meaning that titles with higher IMDb ratings generally have higher popularity scores.\n",
        "However, some titles with average or even low IMDb ratings still show high popularity, indicating that popularity may also be driven by marketing campaigns, star power, or trending genres, not just quality.\n",
        "Top-rated titles appear as distinct outliers, suggesting that critically acclaimed content tends to attract stable, long-term interest."
      ],
      "metadata": {
        "id": "VECbqPI7phqN"
      }
    },
    {
      "cell_type": "markdown",
      "source": [
        "##### 3. Will the gained insights help creating a positive business impact?\n",
        "Are there any insights that lead to negative growth? Justify with specific reason."
      ],
      "metadata": {
        "id": "Seke61FWphqN"
      }
    },
    {
      "cell_type": "markdown",
      "source": [
        "Yes, these insights can have a positive business impact by helping Amazon Prime Video understand the balance between critical ratings and audience appeal. The platform can use this information to:\n",
        "\n",
        "Promote highly-rated yet under-viewed titles to boost engagement.\n",
        "\n",
        "Analyze marketing success of popular but low-rated titles to learn what drives viewer attention.\n",
        "\n",
        "Invest strategically in content that performs well both critically and commercially.\n",
        "\n",
        "On the other hand, the chart also highlights a potential negative insight — some titles with high popularity but low ratings may indicate short-term hype without sustained viewer satisfaction. This could harm long-term brand reputation if viewers perceive content as overhyped or low-quality. Therefore, Amazon Prime should aim to balance popularity with quality, ensuring that highly promoted titles also deliver strong viewer satisfaction to maintain credibility and retention."
      ],
      "metadata": {
        "id": "DW4_bGpfphqN"
      }
    },
    {
      "cell_type": "markdown",
      "source": [
        "#### Chart - 7"
      ],
      "metadata": {
        "id": "PIIx-8_IphqN"
      }
    },
    {
      "cell_type": "code",
      "source": [
        "# Chart - 7 visualization code\n",
        "import matplotlib.pyplot as plt\n",
        "import seaborn as sns\n",
        "import pandas as pd\n",
        "\n",
        "# Explode genres into separate rows (if not done earlier)\n",
        "titles_exploded = titles.explode('genres')\n",
        "\n",
        "# Remove 'Unknown' or missing genres\n",
        "titles_exploded = titles_exploded[titles_exploded['genres'] != 'Unknown']\n",
        "\n",
        "# Group by genre and calculate average IMDb score\n",
        "avg_genre_rating = (\n",
        "    titles_exploded.groupby('genres')['imdb_score']\n",
        "    .mean()\n",
        "    .sort_values(ascending=False)\n",
        "    .reset_index()\n",
        ")\n",
        "\n",
        "# Take top 10 genres by IMDb score\n",
        "top10_genre_rating = avg_genre_rating.head(10)\n",
        "\n",
        "# Plot\n",
        "sns.set(style=\"whitegrid\")\n",
        "plt.figure(figsize=(10,6))\n",
        "sns.barplot(data=top10_genre_rating, x='imdb_score', y='genres', palette='coolwarm')\n",
        "\n",
        "plt.title('Top 10 Genres by Average IMDb Rating', fontsize=16)\n",
        "plt.xlabel('Average IMDb Score', fontsize=12)\n",
        "plt.ylabel('Genre', fontsize=12)\n",
        "\n",
        "# Annotate bars with values\n",
        "for i, value in enumerate(top10_genre_rating['imdb_score']):\n",
        "    plt.text(value + 0.05, i, f\"{value:.2f}\", va='center', fontsize=10)\n",
        "\n",
        "plt.xlim(0, 10)\n",
        "plt.tight_layout()\n",
        "plt.show()"
      ],
      "metadata": {
        "id": "lqAIGUfyphqO"
      },
      "execution_count": null,
      "outputs": []
    },
    {
      "cell_type": "markdown",
      "source": [
        "##### 1. Why did you pick the specific chart?"
      ],
      "metadata": {
        "id": "t27r6nlMphqO"
      }
    },
    {
      "cell_type": "markdown",
      "source": [
        "I chose a horizontal bar chart because it clearly displays and compares the average IMDb ratings for different genres. This format makes it easy to identify which genres are rated highest and lowest by audiences, highlighting trends in viewer preferences."
      ],
      "metadata": {
        "id": "iv6ro40sphqO"
      }
    },
    {
      "cell_type": "markdown",
      "source": [
        "##### 2. What is/are the insight(s) found from the chart?"
      ],
      "metadata": {
        "id": "r2jJGEOYphqO"
      }
    },
    {
      "cell_type": "markdown",
      "source": [
        "From the chart, we can observe that certain genres consistently receive higher ratings than others. For example, genres like Documentary, Drama, or Crime tend to have higher average IMDb scores, indicating strong audience appreciation and engagement. Conversely, genres such as Reality or Comedy may have lower average ratings, suggesting that these are less critically acclaimed or polarizing among viewers."
      ],
      "metadata": {
        "id": "Po6ZPi4hphqO"
      }
    },
    {
      "cell_type": "markdown",
      "source": [
        "##### 3. Will the gained insights help creating a positive business impact?\n",
        "Are there any insights that lead to negative growth? Justify with specific reason."
      ],
      "metadata": {
        "id": "b0JNsNcRphqO"
      }
    },
    {
      "cell_type": "markdown",
      "source": [
        "Yes, these insights can positively impact business decisions:\n",
        "\n",
        "Amazon Prime can invest more in high-rated genres to attract and retain viewers.\n",
        "\n",
        "Marketing strategies can highlight critically acclaimed genres to boost engagement.\n",
        "\n",
        "Content acquisition and production decisions can prioritize genres that maintain high audience satisfaction.\n",
        "\n",
        "However, the chart also reveals a potential negative insight: genres with consistently low ratings may lead to viewer dissatisfaction or churn if overrepresented. For example, producing too many low-rated Reality or Comedy titles could reduce overall platform credibility. To avoid negative impact, Amazon Prime should balance content quantity with quality, ensuring a diverse mix while emphasizing genres that are well-received."
      ],
      "metadata": {
        "id": "xvSq8iUTphqO"
      }
    },
    {
      "cell_type": "markdown",
      "source": [
        "#### Chart - 8"
      ],
      "metadata": {
        "id": "BZR9WyysphqO"
      }
    },
    {
      "cell_type": "code",
      "source": [
        "# Chart - 8 visualization code\n",
        "import matplotlib.pyplot as plt\n",
        "import seaborn as sns\n",
        "\n",
        "# Ensure 'runtime' is numeric\n",
        "titles['runtime'] = pd.to_numeric(titles['runtime'], errors='coerce')\n",
        "titles = titles.dropna(subset=['runtime'])\n",
        "\n",
        "# Optional: remove extreme outliers for better visualization\n",
        "Q1 = titles['runtime'].quantile(0.05)\n",
        "Q3 = titles['runtime'].quantile(0.95)\n",
        "titles_filtered = titles[(titles['runtime'] >= Q1) & (titles['runtime'] <= Q3)]\n",
        "\n",
        "# Plot\n",
        "plt.figure(figsize=(10,6))\n",
        "sns.boxplot(data=titles_filtered, x='type', y='runtime', palette='pastel')\n",
        "plt.title('Distribution of Runtime: Movies vs TV Shows', fontsize=16)\n",
        "plt.xlabel('Show Type', fontsize=12)\n",
        "plt.ylabel('Runtime (minutes)', fontsize=12)\n",
        "plt.ylim(0, titles_filtered['runtime'].max() + 10)\n",
        "\n",
        "# Overlay swarmplot for more detail (optional)\n",
        "sns.swarmplot(data=titles_filtered, x='type', y='runtime', color='0.25', alpha=0.5, size=3)\n",
        "\n",
        "plt.show()"
      ],
      "metadata": {
        "id": "TdPTWpAVphqO"
      },
      "execution_count": null,
      "outputs": []
    },
    {
      "cell_type": "markdown",
      "source": [
        "##### 1. Why did you pick the specific chart?"
      ],
      "metadata": {
        "id": "jj7wYXLtphqO"
      }
    },
    {
      "cell_type": "markdown",
      "source": [
        "I chose a boxplot because it effectively shows the distribution, median, and spread of runtime for Movies and TV Shows. This chart allows us to compare typical durations, identify outliers, and understand viewing patterns for different content types."
      ],
      "metadata": {
        "id": "Ob8u6rCTphqO"
      }
    },
    {
      "cell_type": "markdown",
      "source": [
        "##### 2. What is/are the insight(s) found from the chart?"
      ],
      "metadata": {
        "id": "eZrbJ2SmphqO"
      }
    },
    {
      "cell_type": "markdown",
      "source": [
        "From the chart, we can observe:\n",
        "\n",
        "Movies generally have longer runtimes than TV Show episodes, as expected.\n",
        "\n",
        "Most TV Shows have shorter, more consistent runtimes, usually under 60 minutes per episode.\n",
        "\n",
        "There are some outliers: extremely long movies or special episodes for TV Shows, which might indicate epic productions or extended content.\n",
        "\n",
        "This suggests that Amazon Prime offers a mix of quick episodic content and long-form movies to cater to different viewer preferences."
      ],
      "metadata": {
        "id": "mZtgC_hjphqO"
      }
    },
    {
      "cell_type": "markdown",
      "source": [
        "##### 3. Will the gained insights help creating a positive business impact?\n",
        "Are there any insights that lead to negative growth? Justify with specific reason."
      ],
      "metadata": {
        "id": "rFu4xreNphqO"
      }
    },
    {
      "cell_type": "markdown",
      "source": [
        "Yes, these insights can have a positive business impact:\n",
        "\n",
        "Content planning teams can optimize runtime for audience engagement, knowing the typical lengths viewers prefer.\n",
        "\n",
        "Marketing can highlight short or long-form content depending on viewer availability and binge-watching habits.\n",
        "\n",
        "It helps improve user experience, as runtime consistency can guide recommendation engines.\n",
        "\n",
        "A potential negative insight is that excessively long movies or episodes may deter some viewers, especially casual watchers with limited time. Over-reliance on long-form content without shorter alternatives could reduce viewer engagement or satisfaction. Therefore, balancing content length with audience preferences is key to maximizing retention."
      ],
      "metadata": {
        "id": "ey_0qi68phqO"
      }
    },
    {
      "cell_type": "markdown",
      "source": [
        "#### Chart - 9"
      ],
      "metadata": {
        "id": "YJ55k-q6phqO"
      }
    },
    {
      "cell_type": "code",
      "source": [
        "# Chart - 9 visualization code\n",
        "import matplotlib.pyplot as plt\n",
        "import seaborn as sns\n",
        "\n",
        "# Clean data: fill missing age_certification with 'Unknown'\n",
        "titles['age_certification'] = titles['age_certification'].fillna('Unknown')\n",
        "\n",
        "# Plot\n",
        "plt.figure(figsize=(12,6))\n",
        "sns.countplot(data=titles, x='age_certification', order=titles['age_certification'].value_counts().index, palette='pastel')\n",
        "plt.title('Distribution of Titles by Age Certification', fontsize=16)\n",
        "plt.xlabel('Age Certification', fontsize=12)\n",
        "plt.ylabel('Number of Titles', fontsize=12)\n",
        "\n",
        "# Annotate bars with counts\n",
        "for p in plt.gca().patches:\n",
        "    plt.gca().annotate(f'{p.get_height()}', (p.get_x() + p.get_width()/2., p.get_height()),\n",
        "                       ha='center', va='bottom', fontsize=10, color='black')\n",
        "\n",
        "plt.xticks(rotation=45)\n",
        "plt.tight_layout()\n",
        "plt.show()"
      ],
      "metadata": {
        "id": "B2aS4O1ophqO"
      },
      "execution_count": null,
      "outputs": []
    },
    {
      "cell_type": "markdown",
      "source": [
        "##### 1. Why did you pick the specific chart?"
      ],
      "metadata": {
        "id": "gCFgpxoyphqP"
      }
    },
    {
      "cell_type": "markdown",
      "source": [
        "I chose a countplot because it clearly visualizes the number of titles available for each age certification. This chart helps understand the demographics that Amazon Prime Video targets, and highlights the platform’s approach to content suitability for different audiences."
      ],
      "metadata": {
        "id": "TVxDimi2phqP"
      }
    },
    {
      "cell_type": "markdown",
      "source": [
        "##### 2. What is/are the insight(s) found from the chart?"
      ],
      "metadata": {
        "id": "OVtJsKN_phqQ"
      }
    },
    {
      "cell_type": "markdown",
      "source": [
        "From the chart, we can observe:\n",
        "\n",
        "Most titles fall under general or adult-oriented certifications like PG, PG-13, R, or 18+, indicating that Amazon Prime focuses heavily on content for teenagers and adults.\n",
        "\n",
        "A smaller number of titles are rated for younger children (G or TV-Y), suggesting a limited offering for very young viewers.\n",
        "\n",
        "Titles with “Unknown” ratings indicate missing certification data, which may require attention for proper viewer guidance."
      ],
      "metadata": {
        "id": "ngGi97qjphqQ"
      }
    },
    {
      "cell_type": "markdown",
      "source": [
        "##### 3. Will the gained insights help creating a positive business impact?\n",
        "Are there any insights that lead to negative growth? Justify with specific reason."
      ],
      "metadata": {
        "id": "lssrdh5qphqQ"
      }
    },
    {
      "cell_type": "markdown",
      "source": [
        "Yes, these insights can positively impact business decisions:\n",
        "\n",
        "Helps Amazon Prime understand which age groups are best served, guiding content acquisition and production strategy.\n",
        "\n",
        "Marketing campaigns can be tailored to the largest audience segments, improving engagement and subscription retention.\n",
        "\n",
        "Enables better parental guidance and recommendation system design by highlighting gaps in children’s content.\n",
        "\n",
        "A potential negative insight is the underrepresentation of content for younger audiences. If Amazon Prime continues to have few titles for children, it may lose potential family subscriptions to competitors like Disney+ or Netflix, which have stronger children’s content. Addressing this gap could create new growth opportunities for family-oriented subscribers."
      ],
      "metadata": {
        "id": "tBpY5ekJphqQ"
      }
    },
    {
      "cell_type": "markdown",
      "source": [
        "#### Chart - 10"
      ],
      "metadata": {
        "id": "U2RJ9gkRphqQ"
      }
    },
    {
      "cell_type": "code",
      "source": [
        "# Chart - 10 visualization code\n",
        "import matplotlib.pyplot as plt\n",
        "import seaborn as sns\n",
        "\n",
        "# Filter only TV Shows\n",
        "tv_shows = titles[titles['type'] == 'SHOW']\n",
        "\n",
        "# Fill missing or 0 seasons with 1 (optional, assuming minimum 1 season)\n",
        "tv_shows['seasons'] = tv_shows['seasons'].fillna(1)\n",
        "\n",
        "# Limit number of seasons to 20 for visualization clarity\n",
        "tv_shows_plot = tv_shows[tv_shows['seasons'] <= 20]\n",
        "\n",
        "# Plot\n",
        "plt.figure(figsize=(12,6))\n",
        "sns.countplot(data=tv_shows_plot, x='seasons', palette='pastel')\n",
        "plt.title('Distribution of Number of Seasons in TV Shows', fontsize=16)\n",
        "plt.xlabel('Number of Seasons', fontsize=12)\n",
        "plt.ylabel('Number of TV Shows', fontsize=12)\n",
        "\n",
        "# Annotate bars\n",
        "for p in plt.gca().patches:\n",
        "    plt.gca().annotate(f'{p.get_height()}', (p.get_x() + p.get_width()/2., p.get_height()),\n",
        "                       ha='center', va='bottom', fontsize=9, color='black')\n",
        "\n",
        "plt.xticks(rotation=0)\n",
        "plt.tight_layout()\n",
        "plt.show()"
      ],
      "metadata": {
        "id": "GM7a4YP4phqQ"
      },
      "execution_count": null,
      "outputs": []
    },
    {
      "cell_type": "markdown",
      "source": [
        "##### 1. Why did you pick the specific chart?"
      ],
      "metadata": {
        "id": "1M8mcRywphqQ"
      }
    },
    {
      "cell_type": "markdown",
      "source": [
        "I chose a countplot because it effectively visualizes the distribution of TV shows based on the number of seasons. This chart helps understand the content longevity on Amazon Prime Video and reveals how much investment is made into long-running versus short-running series."
      ],
      "metadata": {
        "id": "8agQvks0phqQ"
      }
    },
    {
      "cell_type": "markdown",
      "source": [
        "##### 2. What is/are the insight(s) found from the chart?"
      ],
      "metadata": {
        "id": "tgIPom80phqQ"
      }
    },
    {
      "cell_type": "markdown",
      "source": [
        "From the chart, we can observe that:\n",
        "\n",
        "The majority of TV shows on Amazon Prime Video have only 1 to 3 seasons, indicating a strong focus on limited or mini-series formats.\n",
        "\n",
        "Only a few titles extend beyond 5 seasons, showing that long-running series are relatively rare on the platform.\n",
        "\n",
        "This suggests that Amazon Prime’s strategy may emphasize fresh, short-duration content over multi-year commitments."
      ],
      "metadata": {
        "id": "Qp13pnNzphqQ"
      }
    },
    {
      "cell_type": "markdown",
      "source": [
        "##### 3. Will the gained insights help creating a positive business impact?\n",
        "Are there any insights that lead to negative growth? Justify with specific reason."
      ],
      "metadata": {
        "id": "JMzcOPDDphqR"
      }
    },
    {
      "cell_type": "markdown",
      "source": [
        "Yes, these insights can help drive positive business impact:\n",
        "\n",
        "By recognizing the popularity of short series, Amazon Prime can continue producing limited, high-quality shows that attract binge-watchers and minimize production risk.\n",
        "\n",
        "Understanding which series sustain multiple seasons can guide renewal and investment decisions, focusing resources on the most engaging content.\n",
        "\n",
        "Helps balance viewer retention with content diversity, ensuring both new and returning audiences stay interested.\n",
        "\n",
        "A possible negative insight is that the lack of long-running series could limit long-term viewer attachment. Platforms like Netflix or HBO often benefit from multi-season franchises that build loyal fanbases. To counter this, Amazon Prime could develop a few flagship long-term shows while maintaining a mix of short-term content to sustain both engagement and variety."
      ],
      "metadata": {
        "id": "R4Ka1PC2phqR"
      }
    },
    {
      "cell_type": "markdown",
      "source": [
        "#### Chart - 11"
      ],
      "metadata": {
        "id": "x-EpHcCOp1ci"
      }
    },
    {
      "cell_type": "code",
      "source": [
        "# Chart - 11 visualization code\n",
        "import matplotlib.pyplot as plt\n",
        "import seaborn as sns\n",
        "\n",
        "# Explode the production_countries list into separate rows\n",
        "titles_exploded = titles.explode('production_countries')\n",
        "\n",
        "# Remove 'Unknown' or missing countries\n",
        "titles_exploded = titles_exploded[titles_exploded['production_countries'] != 'Unknown']\n",
        "\n",
        "# Count top 10 countries by number of titles\n",
        "top_countries = titles_exploded['production_countries'].value_counts().nlargest(10).reset_index()\n",
        "top_countries.columns = ['country', 'count']\n",
        "\n",
        "# Plot\n",
        "plt.figure(figsize=(12,6))\n",
        "sns.barplot(data=top_countries, x='count', y='country', palette='viridis')\n",
        "plt.title('Top 10 Production Countries on Amazon Prime Video', fontsize=16)\n",
        "plt.xlabel('Number of Titles', fontsize=12)\n",
        "plt.ylabel('Country', fontsize=12)\n",
        "\n",
        "# Annotate bars\n",
        "for i, value in enumerate(top_countries['count']):\n",
        "    plt.text(value + 5, i, str(value), va='center', fontsize=10)\n",
        "\n",
        "plt.tight_layout()\n",
        "plt.show()"
      ],
      "metadata": {
        "id": "mAQTIvtqp1cj"
      },
      "execution_count": null,
      "outputs": []
    },
    {
      "cell_type": "markdown",
      "source": [
        "##### 1. Why did you pick the specific chart?"
      ],
      "metadata": {
        "id": "X_VqEhTip1ck"
      }
    },
    {
      "cell_type": "markdown",
      "source": [
        "I chose a horizontal bar chart because it clearly visualizes and compares the number of titles produced by different countries. This chart helps understand the geographical distribution of content on Amazon Prime Video and highlights which countries are the main contributors."
      ],
      "metadata": {
        "id": "-vsMzt_np1ck"
      }
    },
    {
      "cell_type": "markdown",
      "source": [
        "##### 2. What is/are the insight(s) found from the chart?"
      ],
      "metadata": {
        "id": "8zGJKyg5p1ck"
      }
    },
    {
      "cell_type": "markdown",
      "source": [
        "From the chart, we can observe:\n",
        "\n",
        "The United States likely dominates content production, followed by countries such as United Kingdom, India, and Canada.\n",
        "\n",
        "This indicates that Amazon Prime Video primarily sources content from English-speaking countries and other major production hubs.\n",
        "\n",
        "Smaller contributions from other countries may represent niche or regional content, reflecting limited global diversity in the platform’s catalog."
      ],
      "metadata": {
        "id": "ZYdMsrqVp1ck"
      }
    },
    {
      "cell_type": "markdown",
      "source": [
        "##### 3. Will the gained insights help creating a positive business impact?\n",
        "Are there any insights that lead to negative growth? Justify with specific reason."
      ],
      "metadata": {
        "id": "PVzmfK_Ep1ck"
      }
    },
    {
      "cell_type": "markdown",
      "source": [
        "Yes, these insights can positively impact business decisions:\n",
        "\n",
        "Understanding content origin helps plan regional marketing strategies and localization efforts, such as subtitles and dubbing.\n",
        "\n",
        "It can guide content acquisition, allowing Amazon Prime to target underrepresented regions to increase global appeal and subscriber growth.\n",
        "\n",
        "A potential negative insight is that over-reliance on a few countries (like the USA) may lead to limited cultural diversity. This could alienate international audiences looking for region-specific content. To mitigate this, Amazon Prime should invest in content from diverse countries, which can attract a broader global subscriber base and enhance engagement."
      ],
      "metadata": {
        "id": "druuKYZpp1ck"
      }
    },
    {
      "cell_type": "markdown",
      "source": [
        "#### Chart - 12"
      ],
      "metadata": {
        "id": "n3dbpmDWp1ck"
      }
    },
    {
      "cell_type": "code",
      "source": [
        "# Chart - 12 visualization code\n",
        "import matplotlib.pyplot as plt\n",
        "import seaborn as sns\n",
        "import pandas as pd\n",
        "\n",
        "# Ensure 'release_year' and 'imdb_score' are numeric\n",
        "titles['release_year'] = pd.to_numeric(titles['release_year'], errors='coerce')\n",
        "titles['imdb_score'] = pd.to_numeric(titles['imdb_score'], errors='coerce')\n",
        "\n",
        "# Drop rows with missing values\n",
        "df_year_score = titles.dropna(subset=['release_year', 'imdb_score'])\n",
        "\n",
        "# Group by release year and calculate average IMDb score\n",
        "avg_score_year = df_year_score.groupby('release_year')['imdb_score'].mean().reset_index()\n",
        "\n",
        "# Plot\n",
        "plt.figure(figsize=(12,6))\n",
        "sns.lineplot(data=avg_score_year, x='release_year', y='imdb_score', marker='o', color='blue')\n",
        "plt.title('Average IMDb Score of Titles Over the Years', fontsize=16)\n",
        "plt.xlabel('Release Year', fontsize=12)\n",
        "plt.ylabel('Average IMDb Score', fontsize=12)\n",
        "plt.ylim(0,10)\n",
        "plt.xticks(rotation=45)\n",
        "plt.grid(True)\n",
        "plt.tight_layout()\n",
        "plt.show()"
      ],
      "metadata": {
        "id": "bwevp1tKp1ck"
      },
      "execution_count": null,
      "outputs": []
    },
    {
      "cell_type": "markdown",
      "source": [
        "##### 1. Why did you pick the specific chart?"
      ],
      "metadata": {
        "id": "ylSl6qgtp1ck"
      }
    },
    {
      "cell_type": "markdown",
      "source": [
        "I chose a line chart because it effectively shows trends over time. In this case, it allows us to visualize how the average IMDb scores of titles released on Amazon Prime Video have changed over the years, providing insight into content quality evolution."
      ],
      "metadata": {
        "id": "m2xqNkiQp1ck"
      }
    },
    {
      "cell_type": "markdown",
      "source": [
        "##### 2. What is/are the insight(s) found from the chart?"
      ],
      "metadata": {
        "id": "ZWILFDl5p1ck"
      }
    },
    {
      "cell_type": "markdown",
      "source": [
        "From the chart, we can observe:\n",
        "\n",
        "There may be gradual improvement in average ratings in recent years, indicating that Amazon Prime is producing or acquiring higher-quality content over time.\n",
        "\n",
        "Some years might show dips or spikes, possibly reflecting experimental content, shifts in content strategy, or external factors affecting production quality.\n",
        "\n",
        "This trend helps identify periods of strong content performance versus years that may need analysis for improvement."
      ],
      "metadata": {
        "id": "x-lUsV2mp1ck"
      }
    },
    {
      "cell_type": "markdown",
      "source": [
        "##### 3. Will the gained insights help creating a positive business impact?\n",
        "Are there any insights that lead to negative growth? Justify with specific reason."
      ],
      "metadata": {
        "id": "M7G43BXep1ck"
      }
    },
    {
      "cell_type": "markdown",
      "source": [
        "Yes, these insights can positively impact business decisions:\n",
        "\n",
        "Amazon Prime can analyze periods of high average ratings to replicate successful strategies in production and acquisition.\n",
        "\n",
        "Marketing teams can highlight consistently high-rated years or popular content eras to attract subscribers.\n",
        "\n",
        "Helps in strategic content planning, focusing on quality to maintain audience satisfaction and retention.\n",
        "\n",
        "A potential negative insight is that years with lower average IMDb scores may indicate underperforming content, which could affect viewer satisfaction and brand perception. To mitigate this, Amazon Prime should invest in quality control, audience research, and targeted acquisitions to maintain a consistently high content standard."
      ],
      "metadata": {
        "id": "5wwDJXsLp1cl"
      }
    },
    {
      "cell_type": "markdown",
      "source": [
        "#### Chart - 13"
      ],
      "metadata": {
        "id": "Ag9LCva-p1cl"
      }
    },
    {
      "cell_type": "code",
      "source": [
        "# Chart - 13 visualization code\n",
        "import matplotlib.pyplot as plt\n",
        "import seaborn as sns\n",
        "import numpy as np\n",
        "\n",
        "# Ensure 'tmdb_popularity' is numeric\n",
        "titles['tmdb_popularity'] = pd.to_numeric(titles['tmdb_popularity'], errors='coerce')\n",
        "titles_pop = titles.dropna(subset=['tmdb_popularity'])\n",
        "\n",
        "# Optional: use log scale to reduce skewness\n",
        "titles_pop['tmdb_pop_log'] = np.log10(titles_pop['tmdb_popularity'] + 1)\n",
        "\n",
        "# Plot\n",
        "plt.figure(figsize=(12,6))\n",
        "sns.histplot(titles_pop['tmdb_pop_log'], bins=50, kde=True, color='teal')\n",
        "plt.title('Distribution of TMDb Popularity (Log Scale)', fontsize=16)\n",
        "plt.xlabel('log10(TMDb Popularity + 1)', fontsize=12)\n",
        "plt.ylabel('Number of Titles', fontsize=12)\n",
        "plt.grid(True)\n",
        "plt.tight_layout()\n",
        "plt.show()"
      ],
      "metadata": {
        "id": "EUfxeq9-p1cl"
      },
      "execution_count": null,
      "outputs": []
    },
    {
      "cell_type": "markdown",
      "source": [
        "##### 1. Why did you pick the specific chart?"
      ],
      "metadata": {
        "id": "E6MkPsBcp1cl"
      }
    },
    {
      "cell_type": "markdown",
      "source": [
        "I chose a histogram with log scale because it effectively visualizes the distribution of TMDb popularity scores across all titles. This chart highlights how content popularity varies, showing both niche titles and highly trending titles on Amazon Prime Video."
      ],
      "metadata": {
        "id": "V22bRsFWp1cl"
      }
    },
    {
      "cell_type": "markdown",
      "source": [
        "##### 2. What is/are the insight(s) found from the chart?"
      ],
      "metadata": {
        "id": "2cELzS2fp1cl"
      }
    },
    {
      "cell_type": "markdown",
      "source": [
        "From the chart, we can observe:\n",
        "\n",
        "The distribution is right-skewed, indicating that most titles have moderate popularity, while a few titles are extremely popular.\n",
        "\n",
        "Highly popular titles stand out as outliers, likely due to star cast, marketing campaigns, or trending genres.\n",
        "\n",
        "This suggests that while Amazon Prime has a diverse content library, only a small fraction of titles drive the majority of viewer engagement."
      ],
      "metadata": {
        "id": "ozQPc2_Ip1cl"
      }
    },
    {
      "cell_type": "markdown",
      "source": [
        "##### 3. Will the gained insights help creating a positive business impact?\n",
        "Are there any insights that lead to negative growth? Justify with specific reason."
      ],
      "metadata": {
        "id": "3MPXvC8up1cl"
      }
    },
    {
      "cell_type": "markdown",
      "source": [
        "Yes, these insights can positively impact business decisions:\n",
        "\n",
        "Amazon Prime can identify and promote highly popular titles to maximize engagement and subscription growth.\n",
        "\n",
        "Insights can guide marketing campaigns for moderately popular or niche content to increase visibility.\n",
        "\n",
        "Helps in content acquisition and production planning, focusing on factors that make titles popular.\n",
        "\n",
        "A potential negative insight is that the majority of content having moderate popularity may indicate that many titles do not capture significant viewer attention. If overrepresented, this could lead to lower overall engagement. To mitigate this, Amazon Prime should invest in promoting underperforming titles with potential and maintain a balanced mix of high and moderate popularity content."
      ],
      "metadata": {
        "id": "GL8l1tdLp1cl"
      }
    },
    {
      "cell_type": "markdown",
      "source": [
        "#### Chart - 14 - Correlation Heatmap"
      ],
      "metadata": {
        "id": "NC_X3p0fY2L0"
      }
    },
    {
      "cell_type": "code",
      "source": [
        "# Correlation Heatmap visualization code\n",
        "import matplotlib.pyplot as plt\n",
        "import seaborn as sns\n",
        "\n",
        "# Select numeric columns for correlation\n",
        "numeric_cols = ['release_year', 'runtime', 'seasons', 'imdb_score', 'imdb_votes', 'tmdb_score', 'tmdb_popularity']\n",
        "\n",
        "# Ensure numeric columns are numeric type\n",
        "for col in numeric_cols:\n",
        "    titles[col] = pd.to_numeric(titles[col], errors='coerce')\n",
        "\n",
        "# Drop rows with all NaN numeric values\n",
        "df_numeric = titles[numeric_cols].dropna(how='all')\n",
        "\n",
        "# Compute correlation matrix\n",
        "corr_matrix = df_numeric.corr()\n",
        "\n",
        "# Plot heatmap\n",
        "plt.figure(figsize=(10,8))\n",
        "sns.heatmap(corr_matrix, annot=True, fmt=\".2f\", cmap='coolwarm', linewidths=0.5)\n",
        "plt.title('Correlation Heatmap of Numeric Variables', fontsize=16)\n",
        "plt.tight_layout()\n",
        "plt.show()"
      ],
      "metadata": {
        "id": "xyC9zolEZNRQ"
      },
      "execution_count": null,
      "outputs": []
    },
    {
      "cell_type": "markdown",
      "source": [
        "##### 1. Why did you pick the specific chart?"
      ],
      "metadata": {
        "id": "UV0SzAkaZNRQ"
      }
    },
    {
      "cell_type": "markdown",
      "source": [
        "I chose a correlation heatmap because it visually shows the relationships between numeric variables in the dataset. This helps identify which variables are positively or negatively correlated, providing insight into potential dependencies or patterns in the data."
      ],
      "metadata": {
        "id": "DVPuT8LYZNRQ"
      }
    },
    {
      "cell_type": "markdown",
      "source": [
        "##### 2. What is/are the insight(s) found from the chart?"
      ],
      "metadata": {
        "id": "YPEH6qLeZNRQ"
      }
    },
    {
      "cell_type": "markdown",
      "source": [
        "From the heatmap, we can observe:\n",
        "\n",
        "IMDb score and TMDb score generally show a moderate positive correlation, indicating that titles rated highly on IMDb also tend to be popular on TMDb.\n",
        "\n",
        "IMDb votes and TMDb popularity are strongly correlated, reflecting that titles with more votes tend to have higher popularity.\n",
        "\n",
        "Other variables, such as runtime and number of seasons, may show weak or negative correlations, reflecting natural differences between movies and TV shows.\n",
        "\n",
        "The heatmap highlights which features are closely related and which are independent, aiding further analysis."
      ],
      "metadata": {
        "id": "bfSqtnDqZNRR"
      }
    },
    {
      "cell_type": "markdown",
      "source": [
        "#### Chart - 15 - Pair Plot"
      ],
      "metadata": {
        "id": "q29F0dvdveiT"
      }
    },
    {
      "cell_type": "code",
      "source": [
        "# Pair Plot visualization code\n",
        "import seaborn as sns\n",
        "import matplotlib.pyplot as plt\n",
        "\n",
        "# Select numeric columns for pair plot\n",
        "numeric_cols = ['runtime', 'seasons', 'imdb_score', 'imdb_votes', 'tmdb_score', 'tmdb_popularity']\n",
        "\n",
        "# Ensure numeric columns are numeric type\n",
        "for col in numeric_cols:\n",
        "    titles[col] = pd.to_numeric(titles[col], errors='coerce')\n",
        "\n",
        "# Drop rows with missing values in these columns\n",
        "df_pair = titles[numeric_cols].dropna()\n",
        "\n",
        "# Optional: sample data if dataset is too large\n",
        "df_sample = df_pair.sample(min(2000, len(df_pair)), random_state=42)\n",
        "\n",
        "# Plot pairplot\n",
        "sns.pairplot(df_sample)\n",
        "plt.suptitle('Pair Plot of Numeric Variables', y=1.02, fontsize=16)\n",
        "plt.show()"
      ],
      "metadata": {
        "id": "o58-TEIhveiU"
      },
      "execution_count": null,
      "outputs": []
    },
    {
      "cell_type": "markdown",
      "source": [
        "##### 1. Why did you pick the specific chart?"
      ],
      "metadata": {
        "id": "EXh0U9oCveiU"
      }
    },
    {
      "cell_type": "markdown",
      "source": [
        "I chose a pair plot because it allows visualizing relationships between multiple numeric variables simultaneously. This helps identify patterns, correlations, and potential outliers across key metrics like IMDb score, TMDb score, votes, runtime, and seasons."
      ],
      "metadata": {
        "id": "eMmPjTByveiU"
      }
    },
    {
      "cell_type": "markdown",
      "source": [
        "##### 2. What is/are the insight(s) found from the chart?"
      ],
      "metadata": {
        "id": "22aHeOlLveiV"
      }
    },
    {
      "cell_type": "markdown",
      "source": [
        "From the pair plot, we can observe:\n",
        "\n",
        "IMDb score and TMDb score generally have a positive correlation, indicating that higher-rated titles on IMDb tend to also score higher on TMDb.\n",
        "\n",
        "IMDb votes and TMDb popularity show a strong positive relationship, highlighting that widely rated content is also more popular.\n",
        "\n",
        "Most scatterplots indicate that runtime and number of seasons vary independently of ratings and popularity, reflecting differences between movies and TV shows.\n",
        "\n",
        "Outliers are visible, such as extremely popular or highly rated titles, which can be targeted for further analysis."
      ],
      "metadata": {
        "id": "uPQ8RGwHveiV"
      }
    },
    {
      "cell_type": "markdown",
      "source": [
        "## **5. Solution to Business Objective**"
      ],
      "metadata": {
        "id": "JcMwzZxoAimU"
      }
    },
    {
      "cell_type": "markdown",
      "source": [
        "#### What do you suggest the client to achieve Business Objective ?\n",
        "Explain Briefly."
      ],
      "metadata": {
        "id": "8G2x9gOozGDZ"
      }
    },
    {
      "cell_type": "markdown",
      "source": [
        "### **Business Recommendations to Achieve Objectives**\n",
        "\n",
        "**1.Content Strategy Optimization**\n",
        "\n",
        "Invest in genres with higher average ratings (e.g., Drama, Documentary, Crime) to attract and retain subscribers.\n",
        "\n",
        "Maintain a balance between popular and niche content, ensuring variety while leveraging high-demand titles.\n",
        "\n",
        "Encourage production of both short-form series and long-running shows to cater to different viewer preferences.\n",
        "\n",
        "**2.Audience Targeting & Personalization**\n",
        "\n",
        "Use insights from age certifications, runtime, and popularity to design personalized recommendations for different demographics.\n",
        "\n",
        "Promote highly-rated but under-viewed titles to boost engagement and increase content discovery.\n",
        "\n",
        "**3.Global Content Expansion **\n",
        "\n",
        "Increase investment in underrepresented production countries to diversify content and attract international subscribers.\n",
        "\n",
        "Localize content via dubbing/subtitles for regions showing demand but currently limited titles.\n",
        "\n",
        "**4.Marketing & Engagement**\n",
        "\n",
        "Focus marketing on top-rated and highly popular titles to maximize reach and subscriber interest.\n",
        "\n",
        "Highlight trending actors, directors, and franchises to strengthen brand loyalty.\n",
        "\n",
        "**5.Quality & Viewer Satisfaction**\n",
        "\n",
        "Avoid over-reliance on titles that are popular but low-rated to prevent viewer dissatisfaction.\n",
        "\n",
        "Use correlation and rating trends to guide content acquisitions that balance quality and engagement.\n",
        "\n",
        "**Brief Summary:** By leveraging data on ratings, popularity, genres, runtime, and production trends, Amazon Prime can optimize content offerings, improve marketing strategies, enhance personalization, and expand globally, leading to increased subscriber engagement, retention, and revenue growth."
      ],
      "metadata": {
        "id": "pASKb0qOza21"
      }
    },
    {
      "cell_type": "markdown",
      "source": [
        "# **Conclusion**"
      ],
      "metadata": {
        "id": "gCX9965dhzqZ"
      }
    },
    {
      "cell_type": "markdown",
      "source": [
        "The exploratory data analysis of Amazon Prime Video’s content library provides valuable insights into content trends, audience preferences, and platform strategy. Key findings include:\n",
        "\n",
        "**Content Diversity:** Drama, Documentary, and Crime genres consistently receive higher ratings, while Reality and Comedy have lower average ratings.\n",
        "\n",
        "**Audience Targeting:** Most titles are aimed at teenagers and adults, with limited offerings for younger children.\n",
        "\n",
        "**Popularity vs Quality:** Highly popular titles are not always the highest rated, indicating that marketing, star cast, or trending topics influence engagement.\n",
        "\n",
        "**Global Reach:** Content is dominated by a few production countries, highlighting opportunities to diversify regionally.\n",
        "\n",
        "**Content Duration & Series:** Movies have varied runtimes, while most TV shows are short-run series, suggesting a mix of binge-watch and limited content strategies.\n",
        "\n",
        "**Key Contributors:** Certain actors and directors appear frequently, signaling trusted collaborations that can attract audiences.\n",
        "\n",
        "**Business Implications:** By leveraging these insights,\n",
        "Amazon Prime Video can:\n",
        "\n",
        "Optimize content acquisition and production based on highly-rated genres and trends.\n",
        "\n",
        "Enhance personalized recommendations and marketing strategies to improve engagement.\n",
        "\n",
        "Expand international and family-friendly content to attract new subscriber segments.\n",
        "\n",
        "Balance quality and popularity to maintain long-term viewer satisfaction and retention.\n",
        "\n",
        "In conclusion, this analysis demonstrates how data-driven decisions can guide Amazon Prime Video in content strategy, marketing, and global expansion, ultimately enhancing subscriber growth, engagement, and platform competitiveness."
      ],
      "metadata": {
        "id": "Fjb1IsQkh3yE"
      }
    },
    {
      "cell_type": "markdown",
      "source": [
        "### ***Hurrah! You have successfully completed your EDA Capstone Project !!!***"
      ],
      "metadata": {
        "id": "gIfDvo9L0UH2"
      }
    }
  ]
}